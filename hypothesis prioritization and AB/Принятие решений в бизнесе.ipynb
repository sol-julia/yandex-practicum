{
 "cells": [
  {
   "cell_type": "markdown",
   "id": "3594dc5e",
   "metadata": {},
   "source": [
    "# Описание данных\n",
    "## Данные для первой части\n",
    "### Файл hypothesis.csv. \n",
    "- Hypothesis — краткое описание гипотезы;\n",
    "- Reach — охват пользователей по 10-балльной шкале;\n",
    "- Impact — влияние на пользователей по 10-балльной шкале;\n",
    "- Confidence — уверенность в гипотезе по 10-балльной шкале;\n",
    "- Efforts — затраты ресурсов на проверку гипотезы по 10-балльной шкале. Чем больше значение Efforts, тем дороже проверка гипотезы.\n",
    "\n",
    "## Данные для второй части\n",
    "\n",
    "### Файл orders.csv.\n",
    "- transactionId — идентификатор заказа;\n",
    "- visitorId — идентификатор пользователя, совершившего заказ;\n",
    "- date — дата, когда был совершён заказ;\n",
    "- revenue — выручка заказа;\n",
    "- group — группа A/B-теста, в которую попал заказ.\n",
    "\n",
    "### Файл visitors.csv. \n",
    "- date — дата;\n",
    "- group — группа A/B-теста;\n",
    "- visitors — количество пользователей в указанную дату в указанной группе A/B-теста"
   ]
  },
  {
   "cell_type": "markdown",
   "id": "2a05360c",
   "metadata": {},
   "source": [
    "# 1. Откроем файлы"
   ]
  },
  {
   "cell_type": "code",
   "execution_count": 1,
   "id": "7652e2e2",
   "metadata": {},
   "outputs": [],
   "source": [
    "import pandas as pd\n",
    "import matplotlib.pyplot as plt\n",
    "import seaborn as sns\n",
    "import numpy as np\n",
    "from datetime import datetime\n",
    "import scipy.stats as stats\n",
    "\n",
    "# снимаем ограничение на ширину столбцов\n",
    "pd.set_option('display.max_colwidth', None)"
   ]
  },
  {
   "cell_type": "markdown",
   "id": "91da1a78",
   "metadata": {},
   "source": [
    "## Hypothesis"
   ]
  },
  {
   "cell_type": "code",
   "execution_count": 2,
   "id": "99d45dfa",
   "metadata": {},
   "outputs": [
    {
     "data": {
      "text/plain": [
       "0"
      ]
     },
     "metadata": {},
     "output_type": "display_data"
    },
    {
     "name": "stdout",
     "output_type": "stream",
     "text": [
      "<class 'pandas.core.frame.DataFrame'>\n",
      "RangeIndex: 9 entries, 0 to 8\n",
      "Data columns (total 5 columns):\n",
      " #   Column      Non-Null Count  Dtype \n",
      "---  ------      --------------  ----- \n",
      " 0   Hypothesis  9 non-null      object\n",
      " 1   Reach       9 non-null      int64 \n",
      " 2   Impact      9 non-null      int64 \n",
      " 3   Confidence  9 non-null      int64 \n",
      " 4   Efforts     9 non-null      int64 \n",
      "dtypes: int64(4), object(1)\n",
      "memory usage: 488.0+ bytes\n"
     ]
    },
    {
     "data": {
      "text/html": [
       "<div>\n",
       "<style scoped>\n",
       "    .dataframe tbody tr th:only-of-type {\n",
       "        vertical-align: middle;\n",
       "    }\n",
       "\n",
       "    .dataframe tbody tr th {\n",
       "        vertical-align: top;\n",
       "    }\n",
       "\n",
       "    .dataframe thead th {\n",
       "        text-align: right;\n",
       "    }\n",
       "</style>\n",
       "<table border=\"1\" class=\"dataframe\">\n",
       "  <thead>\n",
       "    <tr style=\"text-align: right;\">\n",
       "      <th></th>\n",
       "      <th>Hypothesis</th>\n",
       "      <th>Reach</th>\n",
       "      <th>Impact</th>\n",
       "      <th>Confidence</th>\n",
       "      <th>Efforts</th>\n",
       "    </tr>\n",
       "  </thead>\n",
       "  <tbody>\n",
       "    <tr>\n",
       "      <th>0</th>\n",
       "      <td>Добавить два новых канала привлечения трафика, что позволит привлекать на 30% больше пользователей</td>\n",
       "      <td>3</td>\n",
       "      <td>10</td>\n",
       "      <td>8</td>\n",
       "      <td>6</td>\n",
       "    </tr>\n",
       "    <tr>\n",
       "      <th>1</th>\n",
       "      <td>Запустить собственную службу доставки, что сократит срок доставки заказов</td>\n",
       "      <td>2</td>\n",
       "      <td>5</td>\n",
       "      <td>4</td>\n",
       "      <td>10</td>\n",
       "    </tr>\n",
       "    <tr>\n",
       "      <th>2</th>\n",
       "      <td>Добавить блоки рекомендаций товаров на сайт интернет магазина, чтобы повысить конверсию и средний чек заказа</td>\n",
       "      <td>8</td>\n",
       "      <td>3</td>\n",
       "      <td>7</td>\n",
       "      <td>3</td>\n",
       "    </tr>\n",
       "    <tr>\n",
       "      <th>3</th>\n",
       "      <td>Изменить структура категорий, что увеличит конверсию, т.к. пользователи быстрее найдут нужный товар</td>\n",
       "      <td>8</td>\n",
       "      <td>3</td>\n",
       "      <td>3</td>\n",
       "      <td>8</td>\n",
       "    </tr>\n",
       "    <tr>\n",
       "      <th>4</th>\n",
       "      <td>Изменить цвет фона главной страницы, чтобы увеличить вовлеченность пользователей</td>\n",
       "      <td>3</td>\n",
       "      <td>1</td>\n",
       "      <td>1</td>\n",
       "      <td>1</td>\n",
       "    </tr>\n",
       "    <tr>\n",
       "      <th>5</th>\n",
       "      <td>Добавить страницу отзывов клиентов о магазине, что позволит увеличить количество заказов</td>\n",
       "      <td>3</td>\n",
       "      <td>2</td>\n",
       "      <td>2</td>\n",
       "      <td>3</td>\n",
       "    </tr>\n",
       "    <tr>\n",
       "      <th>6</th>\n",
       "      <td>Показать на главной странице баннеры с актуальными акциями и распродажами, чтобы увеличить конверсию</td>\n",
       "      <td>5</td>\n",
       "      <td>3</td>\n",
       "      <td>8</td>\n",
       "      <td>3</td>\n",
       "    </tr>\n",
       "    <tr>\n",
       "      <th>7</th>\n",
       "      <td>Добавить форму подписки на все основные страницы, чтобы собрать базу клиентов для email-рассылок</td>\n",
       "      <td>10</td>\n",
       "      <td>7</td>\n",
       "      <td>8</td>\n",
       "      <td>5</td>\n",
       "    </tr>\n",
       "    <tr>\n",
       "      <th>8</th>\n",
       "      <td>Запустить акцию, дающую скидку на товар в день рождения</td>\n",
       "      <td>1</td>\n",
       "      <td>9</td>\n",
       "      <td>9</td>\n",
       "      <td>5</td>\n",
       "    </tr>\n",
       "  </tbody>\n",
       "</table>\n",
       "</div>"
      ],
      "text/plain": [
       "                                                                                                     Hypothesis  \\\n",
       "0            Добавить два новых канала привлечения трафика, что позволит привлекать на 30% больше пользователей   \n",
       "1                                     Запустить собственную службу доставки, что сократит срок доставки заказов   \n",
       "2  Добавить блоки рекомендаций товаров на сайт интернет магазина, чтобы повысить конверсию и средний чек заказа   \n",
       "3           Изменить структура категорий, что увеличит конверсию, т.к. пользователи быстрее найдут нужный товар   \n",
       "4                              Изменить цвет фона главной страницы, чтобы увеличить вовлеченность пользователей   \n",
       "5                      Добавить страницу отзывов клиентов о магазине, что позволит увеличить количество заказов   \n",
       "6          Показать на главной странице баннеры с актуальными акциями и распродажами, чтобы увеличить конверсию   \n",
       "7              Добавить форму подписки на все основные страницы, чтобы собрать базу клиентов для email-рассылок   \n",
       "8                                                       Запустить акцию, дающую скидку на товар в день рождения   \n",
       "\n",
       "   Reach  Impact  Confidence  Efforts  \n",
       "0      3      10           8        6  \n",
       "1      2       5           4       10  \n",
       "2      8       3           7        3  \n",
       "3      8       3           3        8  \n",
       "4      3       1           1        1  \n",
       "5      3       2           2        3  \n",
       "6      5       3           8        3  \n",
       "7     10       7           8        5  \n",
       "8      1       9           9        5  "
      ]
     },
     "metadata": {},
     "output_type": "display_data"
    }
   ],
   "source": [
    "try:\n",
    "    hypothesis = pd.read_csv('C:/Users/arvore/Downloads/Яндекс/Принятие решений в бизнесе/hypothesis.csv')\n",
    "except:\n",
    "    hypothesis = pd.read_csv('https://code.s3.yandex.net/datasets/hypothesis.csv')\n",
    "\n",
    "display(hypothesis.duplicated().sum())    \n",
    "    \n",
    "hypothesis.info()    \n",
    "display(hypothesis)"
   ]
  },
  {
   "cell_type": "markdown",
   "id": "5f93ac68",
   "metadata": {},
   "source": [
    "## orders"
   ]
  },
  {
   "cell_type": "code",
   "execution_count": 3,
   "id": "403885cf",
   "metadata": {},
   "outputs": [
    {
     "data": {
      "text/plain": [
       "0"
      ]
     },
     "metadata": {},
     "output_type": "display_data"
    },
    {
     "name": "stdout",
     "output_type": "stream",
     "text": [
      "<class 'pandas.core.frame.DataFrame'>\n",
      "RangeIndex: 1197 entries, 0 to 1196\n",
      "Data columns (total 5 columns):\n",
      " #   Column         Non-Null Count  Dtype \n",
      "---  ------         --------------  ----- \n",
      " 0   transactionId  1197 non-null   int64 \n",
      " 1   visitorId      1197 non-null   int64 \n",
      " 2   date           1197 non-null   object\n",
      " 3   revenue        1197 non-null   int64 \n",
      " 4   group          1197 non-null   object\n",
      "dtypes: int64(3), object(2)\n",
      "memory usage: 46.9+ KB\n"
     ]
    },
    {
     "data": {
      "text/html": [
       "<div>\n",
       "<style scoped>\n",
       "    .dataframe tbody tr th:only-of-type {\n",
       "        vertical-align: middle;\n",
       "    }\n",
       "\n",
       "    .dataframe tbody tr th {\n",
       "        vertical-align: top;\n",
       "    }\n",
       "\n",
       "    .dataframe thead th {\n",
       "        text-align: right;\n",
       "    }\n",
       "</style>\n",
       "<table border=\"1\" class=\"dataframe\">\n",
       "  <thead>\n",
       "    <tr style=\"text-align: right;\">\n",
       "      <th></th>\n",
       "      <th>transactionId</th>\n",
       "      <th>visitorId</th>\n",
       "      <th>date</th>\n",
       "      <th>revenue</th>\n",
       "      <th>group</th>\n",
       "    </tr>\n",
       "  </thead>\n",
       "  <tbody>\n",
       "    <tr>\n",
       "      <th>0</th>\n",
       "      <td>3667963787</td>\n",
       "      <td>3312258926</td>\n",
       "      <td>2019-08-15</td>\n",
       "      <td>1650</td>\n",
       "      <td>B</td>\n",
       "    </tr>\n",
       "    <tr>\n",
       "      <th>1</th>\n",
       "      <td>2804400009</td>\n",
       "      <td>3642806036</td>\n",
       "      <td>2019-08-15</td>\n",
       "      <td>730</td>\n",
       "      <td>B</td>\n",
       "    </tr>\n",
       "    <tr>\n",
       "      <th>2</th>\n",
       "      <td>2961555356</td>\n",
       "      <td>4069496402</td>\n",
       "      <td>2019-08-15</td>\n",
       "      <td>400</td>\n",
       "      <td>A</td>\n",
       "    </tr>\n",
       "    <tr>\n",
       "      <th>3</th>\n",
       "      <td>3797467345</td>\n",
       "      <td>1196621759</td>\n",
       "      <td>2019-08-15</td>\n",
       "      <td>9759</td>\n",
       "      <td>B</td>\n",
       "    </tr>\n",
       "    <tr>\n",
       "      <th>4</th>\n",
       "      <td>2282983706</td>\n",
       "      <td>2322279887</td>\n",
       "      <td>2019-08-15</td>\n",
       "      <td>2308</td>\n",
       "      <td>B</td>\n",
       "    </tr>\n",
       "    <tr>\n",
       "      <th>...</th>\n",
       "      <td>...</td>\n",
       "      <td>...</td>\n",
       "      <td>...</td>\n",
       "      <td>...</td>\n",
       "      <td>...</td>\n",
       "    </tr>\n",
       "    <tr>\n",
       "      <th>1192</th>\n",
       "      <td>2662137336</td>\n",
       "      <td>3733762160</td>\n",
       "      <td>2019-08-14</td>\n",
       "      <td>6490</td>\n",
       "      <td>B</td>\n",
       "    </tr>\n",
       "    <tr>\n",
       "      <th>1193</th>\n",
       "      <td>2203539145</td>\n",
       "      <td>370388673</td>\n",
       "      <td>2019-08-14</td>\n",
       "      <td>3190</td>\n",
       "      <td>A</td>\n",
       "    </tr>\n",
       "    <tr>\n",
       "      <th>1194</th>\n",
       "      <td>1807773912</td>\n",
       "      <td>573423106</td>\n",
       "      <td>2019-08-14</td>\n",
       "      <td>10550</td>\n",
       "      <td>A</td>\n",
       "    </tr>\n",
       "    <tr>\n",
       "      <th>1195</th>\n",
       "      <td>1947021204</td>\n",
       "      <td>1614305549</td>\n",
       "      <td>2019-08-14</td>\n",
       "      <td>100</td>\n",
       "      <td>A</td>\n",
       "    </tr>\n",
       "    <tr>\n",
       "      <th>1196</th>\n",
       "      <td>3936777065</td>\n",
       "      <td>2108080724</td>\n",
       "      <td>2019-08-15</td>\n",
       "      <td>202740</td>\n",
       "      <td>B</td>\n",
       "    </tr>\n",
       "  </tbody>\n",
       "</table>\n",
       "<p>1197 rows × 5 columns</p>\n",
       "</div>"
      ],
      "text/plain": [
       "      transactionId   visitorId        date  revenue group\n",
       "0        3667963787  3312258926  2019-08-15     1650     B\n",
       "1        2804400009  3642806036  2019-08-15      730     B\n",
       "2        2961555356  4069496402  2019-08-15      400     A\n",
       "3        3797467345  1196621759  2019-08-15     9759     B\n",
       "4        2282983706  2322279887  2019-08-15     2308     B\n",
       "...             ...         ...         ...      ...   ...\n",
       "1192     2662137336  3733762160  2019-08-14     6490     B\n",
       "1193     2203539145   370388673  2019-08-14     3190     A\n",
       "1194     1807773912   573423106  2019-08-14    10550     A\n",
       "1195     1947021204  1614305549  2019-08-14      100     A\n",
       "1196     3936777065  2108080724  2019-08-15   202740     B\n",
       "\n",
       "[1197 rows x 5 columns]"
      ]
     },
     "metadata": {},
     "output_type": "display_data"
    }
   ],
   "source": [
    "try:\n",
    "    orders = pd.read_csv('C:/Users/arvore/Downloads/Яндекс/Принятие решений в бизнесе/orders.csv')\n",
    "except:\n",
    "    orders = pd.read_csv('https://code.s3.yandex.net/datasets/orders.csv')\n",
    "\n",
    "display(orders.duplicated().sum())\n",
    "\n",
    "orders.info()    \n",
    "display(orders)"
   ]
  },
  {
   "cell_type": "code",
   "execution_count": 4,
   "id": "01a2f92d",
   "metadata": {},
   "outputs": [
    {
     "name": "stdout",
     "output_type": "stream",
     "text": [
      "<class 'pandas.core.frame.DataFrame'>\n",
      "RangeIndex: 1197 entries, 0 to 1196\n",
      "Data columns (total 5 columns):\n",
      " #   Column   Non-Null Count  Dtype         \n",
      "---  ------   --------------  -----         \n",
      " 0   orderId  1197 non-null   int64         \n",
      " 1   userId   1197 non-null   int64         \n",
      " 2   date     1197 non-null   datetime64[ns]\n",
      " 3   revenue  1197 non-null   int64         \n",
      " 4   group    1197 non-null   object        \n",
      "dtypes: datetime64[ns](1), int64(3), object(1)\n",
      "memory usage: 46.9+ KB\n"
     ]
    }
   ],
   "source": [
    "orders['date'] = pd.to_datetime(orders['date'])\n",
    "orders.columns = ['orderId', 'userId', 'date', 'revenue', 'group']\n",
    "orders.info() "
   ]
  },
  {
   "cell_type": "code",
   "execution_count": 5,
   "id": "08d5d794",
   "metadata": {},
   "outputs": [
    {
     "data": {
      "text/html": [
       "<div>\n",
       "<style scoped>\n",
       "    .dataframe tbody tr th:only-of-type {\n",
       "        vertical-align: middle;\n",
       "    }\n",
       "\n",
       "    .dataframe tbody tr th {\n",
       "        vertical-align: top;\n",
       "    }\n",
       "\n",
       "    .dataframe thead th {\n",
       "        text-align: right;\n",
       "    }\n",
       "</style>\n",
       "<table border=\"1\" class=\"dataframe\">\n",
       "  <thead>\n",
       "    <tr style=\"text-align: right;\">\n",
       "      <th></th>\n",
       "      <th>userId</th>\n",
       "      <th>count</th>\n",
       "    </tr>\n",
       "  </thead>\n",
       "  <tbody>\n",
       "    <tr>\n",
       "      <th>2</th>\n",
       "      <td>8300375</td>\n",
       "      <td>2</td>\n",
       "    </tr>\n",
       "    <tr>\n",
       "      <th>44</th>\n",
       "      <td>199603092</td>\n",
       "      <td>2</td>\n",
       "    </tr>\n",
       "    <tr>\n",
       "      <th>51</th>\n",
       "      <td>232979603</td>\n",
       "      <td>2</td>\n",
       "    </tr>\n",
       "    <tr>\n",
       "      <th>55</th>\n",
       "      <td>237748145</td>\n",
       "      <td>2</td>\n",
       "    </tr>\n",
       "    <tr>\n",
       "      <th>66</th>\n",
       "      <td>276558944</td>\n",
       "      <td>2</td>\n",
       "    </tr>\n",
       "  </tbody>\n",
       "</table>\n",
       "</div>"
      ],
      "text/plain": [
       "       userId  count\n",
       "2     8300375      2\n",
       "44  199603092      2\n",
       "51  232979603      2\n",
       "55  237748145      2\n",
       "66  276558944      2"
      ]
     },
     "execution_count": 5,
     "metadata": {},
     "output_type": "execute_result"
    }
   ],
   "source": [
    "#проверим, есть ли пользователи, попавшие в обе тестовых группы\n",
    "orders_false = orders.groupby('userId').agg({'group':'nunique'}).reset_index()\n",
    "orders_false.columns = ['userId', 'count']\n",
    "\n",
    "orders_false.query('count > 1').head()"
   ]
  },
  {
   "cell_type": "code",
   "execution_count": 6,
   "id": "d8514f1c",
   "metadata": {},
   "outputs": [
    {
     "data": {
      "text/html": [
       "<div>\n",
       "<style scoped>\n",
       "    .dataframe tbody tr th:only-of-type {\n",
       "        vertical-align: middle;\n",
       "    }\n",
       "\n",
       "    .dataframe tbody tr th {\n",
       "        vertical-align: top;\n",
       "    }\n",
       "\n",
       "    .dataframe thead th {\n",
       "        text-align: right;\n",
       "    }\n",
       "</style>\n",
       "<table border=\"1\" class=\"dataframe\">\n",
       "  <thead>\n",
       "    <tr style=\"text-align: right;\">\n",
       "      <th></th>\n",
       "      <th>orderId</th>\n",
       "      <th>userId</th>\n",
       "      <th>date</th>\n",
       "      <th>revenue</th>\n",
       "      <th>group</th>\n",
       "    </tr>\n",
       "  </thead>\n",
       "  <tbody>\n",
       "    <tr>\n",
       "      <th>0</th>\n",
       "      <td>3667963787</td>\n",
       "      <td>3312258926</td>\n",
       "      <td>2019-08-15</td>\n",
       "      <td>1650</td>\n",
       "      <td>B</td>\n",
       "    </tr>\n",
       "    <tr>\n",
       "      <th>1</th>\n",
       "      <td>2804400009</td>\n",
       "      <td>3642806036</td>\n",
       "      <td>2019-08-15</td>\n",
       "      <td>730</td>\n",
       "      <td>B</td>\n",
       "    </tr>\n",
       "    <tr>\n",
       "      <th>3</th>\n",
       "      <td>3797467345</td>\n",
       "      <td>1196621759</td>\n",
       "      <td>2019-08-15</td>\n",
       "      <td>9759</td>\n",
       "      <td>B</td>\n",
       "    </tr>\n",
       "    <tr>\n",
       "      <th>4</th>\n",
       "      <td>2282983706</td>\n",
       "      <td>2322279887</td>\n",
       "      <td>2019-08-15</td>\n",
       "      <td>2308</td>\n",
       "      <td>B</td>\n",
       "    </tr>\n",
       "    <tr>\n",
       "      <th>5</th>\n",
       "      <td>182168103</td>\n",
       "      <td>935554773</td>\n",
       "      <td>2019-08-15</td>\n",
       "      <td>2210</td>\n",
       "      <td>B</td>\n",
       "    </tr>\n",
       "    <tr>\n",
       "      <th>...</th>\n",
       "      <td>...</td>\n",
       "      <td>...</td>\n",
       "      <td>...</td>\n",
       "      <td>...</td>\n",
       "      <td>...</td>\n",
       "    </tr>\n",
       "    <tr>\n",
       "      <th>1191</th>\n",
       "      <td>3592955527</td>\n",
       "      <td>608641596</td>\n",
       "      <td>2019-08-14</td>\n",
       "      <td>16490</td>\n",
       "      <td>B</td>\n",
       "    </tr>\n",
       "    <tr>\n",
       "      <th>1192</th>\n",
       "      <td>2662137336</td>\n",
       "      <td>3733762160</td>\n",
       "      <td>2019-08-14</td>\n",
       "      <td>6490</td>\n",
       "      <td>B</td>\n",
       "    </tr>\n",
       "    <tr>\n",
       "      <th>1193</th>\n",
       "      <td>2203539145</td>\n",
       "      <td>370388673</td>\n",
       "      <td>2019-08-14</td>\n",
       "      <td>3190</td>\n",
       "      <td>A</td>\n",
       "    </tr>\n",
       "    <tr>\n",
       "      <th>1194</th>\n",
       "      <td>1807773912</td>\n",
       "      <td>573423106</td>\n",
       "      <td>2019-08-14</td>\n",
       "      <td>10550</td>\n",
       "      <td>A</td>\n",
       "    </tr>\n",
       "    <tr>\n",
       "      <th>1196</th>\n",
       "      <td>3936777065</td>\n",
       "      <td>2108080724</td>\n",
       "      <td>2019-08-15</td>\n",
       "      <td>202740</td>\n",
       "      <td>B</td>\n",
       "    </tr>\n",
       "  </tbody>\n",
       "</table>\n",
       "<p>1016 rows × 5 columns</p>\n",
       "</div>"
      ],
      "text/plain": [
       "         orderId      userId       date  revenue group\n",
       "0     3667963787  3312258926 2019-08-15     1650     B\n",
       "1     2804400009  3642806036 2019-08-15      730     B\n",
       "3     3797467345  1196621759 2019-08-15     9759     B\n",
       "4     2282983706  2322279887 2019-08-15     2308     B\n",
       "5      182168103   935554773 2019-08-15     2210     B\n",
       "...          ...         ...        ...      ...   ...\n",
       "1191  3592955527   608641596 2019-08-14    16490     B\n",
       "1192  2662137336  3733762160 2019-08-14     6490     B\n",
       "1193  2203539145   370388673 2019-08-14     3190     A\n",
       "1194  1807773912   573423106 2019-08-14    10550     A\n",
       "1196  3936777065  2108080724 2019-08-15   202740     B\n",
       "\n",
       "[1016 rows x 5 columns]"
      ]
     },
     "execution_count": 6,
     "metadata": {},
     "output_type": "execute_result"
    }
   ],
   "source": [
    "#так как есть пересечения, нужно исклучить их для получения верных результатов\n",
    "orders = orders.merge(orders_false, on='userId', how='left')\n",
    "orders = orders.query('count < 2')\n",
    "del orders['count']\n",
    "\n",
    "orders"
   ]
  },
  {
   "cell_type": "markdown",
   "id": "5f31c88b",
   "metadata": {},
   "source": [
    "## visitors"
   ]
  },
  {
   "cell_type": "code",
   "execution_count": 7,
   "id": "c307833b",
   "metadata": {},
   "outputs": [
    {
     "data": {
      "text/plain": [
       "0"
      ]
     },
     "metadata": {},
     "output_type": "display_data"
    },
    {
     "name": "stdout",
     "output_type": "stream",
     "text": [
      "<class 'pandas.core.frame.DataFrame'>\n",
      "RangeIndex: 62 entries, 0 to 61\n",
      "Data columns (total 3 columns):\n",
      " #   Column    Non-Null Count  Dtype \n",
      "---  ------    --------------  ----- \n",
      " 0   date      62 non-null     object\n",
      " 1   group     62 non-null     object\n",
      " 2   visitors  62 non-null     int64 \n",
      "dtypes: int64(1), object(2)\n",
      "memory usage: 1.6+ KB\n"
     ]
    },
    {
     "data": {
      "text/html": [
       "<div>\n",
       "<style scoped>\n",
       "    .dataframe tbody tr th:only-of-type {\n",
       "        vertical-align: middle;\n",
       "    }\n",
       "\n",
       "    .dataframe tbody tr th {\n",
       "        vertical-align: top;\n",
       "    }\n",
       "\n",
       "    .dataframe thead th {\n",
       "        text-align: right;\n",
       "    }\n",
       "</style>\n",
       "<table border=\"1\" class=\"dataframe\">\n",
       "  <thead>\n",
       "    <tr style=\"text-align: right;\">\n",
       "      <th></th>\n",
       "      <th>date</th>\n",
       "      <th>group</th>\n",
       "      <th>visitors</th>\n",
       "    </tr>\n",
       "  </thead>\n",
       "  <tbody>\n",
       "    <tr>\n",
       "      <th>0</th>\n",
       "      <td>2019-08-01</td>\n",
       "      <td>A</td>\n",
       "      <td>719</td>\n",
       "    </tr>\n",
       "    <tr>\n",
       "      <th>1</th>\n",
       "      <td>2019-08-02</td>\n",
       "      <td>A</td>\n",
       "      <td>619</td>\n",
       "    </tr>\n",
       "    <tr>\n",
       "      <th>2</th>\n",
       "      <td>2019-08-03</td>\n",
       "      <td>A</td>\n",
       "      <td>507</td>\n",
       "    </tr>\n",
       "    <tr>\n",
       "      <th>3</th>\n",
       "      <td>2019-08-04</td>\n",
       "      <td>A</td>\n",
       "      <td>717</td>\n",
       "    </tr>\n",
       "    <tr>\n",
       "      <th>4</th>\n",
       "      <td>2019-08-05</td>\n",
       "      <td>A</td>\n",
       "      <td>756</td>\n",
       "    </tr>\n",
       "    <tr>\n",
       "      <th>...</th>\n",
       "      <td>...</td>\n",
       "      <td>...</td>\n",
       "      <td>...</td>\n",
       "    </tr>\n",
       "    <tr>\n",
       "      <th>57</th>\n",
       "      <td>2019-08-27</td>\n",
       "      <td>B</td>\n",
       "      <td>720</td>\n",
       "    </tr>\n",
       "    <tr>\n",
       "      <th>58</th>\n",
       "      <td>2019-08-28</td>\n",
       "      <td>B</td>\n",
       "      <td>654</td>\n",
       "    </tr>\n",
       "    <tr>\n",
       "      <th>59</th>\n",
       "      <td>2019-08-29</td>\n",
       "      <td>B</td>\n",
       "      <td>531</td>\n",
       "    </tr>\n",
       "    <tr>\n",
       "      <th>60</th>\n",
       "      <td>2019-08-30</td>\n",
       "      <td>B</td>\n",
       "      <td>490</td>\n",
       "    </tr>\n",
       "    <tr>\n",
       "      <th>61</th>\n",
       "      <td>2019-08-31</td>\n",
       "      <td>B</td>\n",
       "      <td>718</td>\n",
       "    </tr>\n",
       "  </tbody>\n",
       "</table>\n",
       "<p>62 rows × 3 columns</p>\n",
       "</div>"
      ],
      "text/plain": [
       "          date group  visitors\n",
       "0   2019-08-01     A       719\n",
       "1   2019-08-02     A       619\n",
       "2   2019-08-03     A       507\n",
       "3   2019-08-04     A       717\n",
       "4   2019-08-05     A       756\n",
       "..         ...   ...       ...\n",
       "57  2019-08-27     B       720\n",
       "58  2019-08-28     B       654\n",
       "59  2019-08-29     B       531\n",
       "60  2019-08-30     B       490\n",
       "61  2019-08-31     B       718\n",
       "\n",
       "[62 rows x 3 columns]"
      ]
     },
     "metadata": {},
     "output_type": "display_data"
    }
   ],
   "source": [
    "try:\n",
    "    visitors = pd.read_csv('C:/Users/arvore/Downloads/Яндекс/Принятие решений в бизнесе/visitors.csv')\n",
    "except:\n",
    "    visitors = pd.read_csv('https://code.s3.yandex.net/datasets/visitors.csv')\n",
    "\n",
    "display(visitors.duplicated().sum())\n",
    "visitors.info()    \n",
    "display(visitors)"
   ]
  },
  {
   "cell_type": "code",
   "execution_count": 8,
   "id": "74762c2a",
   "metadata": {},
   "outputs": [
    {
     "name": "stdout",
     "output_type": "stream",
     "text": [
      "<class 'pandas.core.frame.DataFrame'>\n",
      "RangeIndex: 62 entries, 0 to 61\n",
      "Data columns (total 3 columns):\n",
      " #   Column    Non-Null Count  Dtype         \n",
      "---  ------    --------------  -----         \n",
      " 0   date      62 non-null     datetime64[ns]\n",
      " 1   group     62 non-null     object        \n",
      " 2   visitors  62 non-null     int64         \n",
      "dtypes: datetime64[ns](1), int64(1), object(1)\n",
      "memory usage: 1.6+ KB\n"
     ]
    }
   ],
   "source": [
    "visitors['date'] = pd.to_datetime(visitors['date'])\n",
    "visitors.info()"
   ]
  },
  {
   "cell_type": "code",
   "execution_count": 9,
   "id": "9734ff74",
   "metadata": {},
   "outputs": [
    {
     "name": "stdout",
     "output_type": "stream",
     "text": [
      "Группы теста в orders: ['B' 'A']\n",
      "\n",
      "Группы теста в visitors: ['A' 'B']\n"
     ]
    }
   ],
   "source": [
    "print('Группы теста в orders:', orders['group'].unique())\n",
    "print()\n",
    "print('Группы теста в visitors:', visitors['group'].unique())"
   ]
  },
  {
   "cell_type": "code",
   "execution_count": 10,
   "id": "275a9de2",
   "metadata": {},
   "outputs": [
    {
     "name": "stdout",
     "output_type": "stream",
     "text": [
      "Минимальная дата анализа: 2019-08-01\n",
      "Максимальная дата анализа: 2019-08-31\n"
     ]
    }
   ],
   "source": [
    "print('Минимальная дата анализа:', orders['date'].dt.date.min())\n",
    "print('Максимальная дата анализа:', orders['date'].dt.date.max())"
   ]
  },
  {
   "cell_type": "code",
   "execution_count": 11,
   "id": "49a11303",
   "metadata": {},
   "outputs": [
    {
     "data": {
      "image/png": "[encoded data removed]",
      "text/plain": [
       "<Figure size 1080x432 with 1 Axes>"
      ]
     },
     "metadata": {
      "needs_background": "light"
     },
     "output_type": "display_data"
    }
   ],
   "source": [
    "plt.figure(figsize=(15,6))\n",
    "\n",
    "visitorsA = visitors.query('group == \"A\"')\n",
    "visitorsB = visitors.query('group == \"B\"')\n",
    "\n",
    "plt.plot(visitorsA['date'], visitorsA['visitors'], label='A')\n",
    "plt.plot(visitorsB['date'], visitorsB['visitors'], label='B')\n",
    "\n",
    "plt.title('Количество посещений по группам А и В')\n",
    "plt.xlabel('Дата')\n",
    "plt.ylabel('Количество посетителей')\n",
    "plt.legend() \n",
    "\n",
    "plt.show()"
   ]
  },
  {
   "cell_type": "markdown",
   "id": "bc8bb13f",
   "metadata": {},
   "source": [
    "### Выводы:\n",
    "1. У нас есть 9 гипотиз.\n",
    "2. Исключены пользователи, попавшие в группы А и В одновременно.\n",
    "3. Период исследования - **с 1 августа 2019 по 31 августа 2019**.\n",
    "4. Количество пользователей для обеих групп сильно варьируется от месяца к месяцу."
   ]
  },
  {
   "cell_type": "markdown",
   "id": "d45fe42b",
   "metadata": {},
   "source": [
    "# 2. Приоритизация гипотез"
   ]
  },
  {
   "cell_type": "markdown",
   "id": "30e3cff4",
   "metadata": {},
   "source": [
    "## 2.1. ICE"
   ]
  },
  {
   "cell_type": "code",
   "execution_count": 12,
   "id": "551afa2a",
   "metadata": {},
   "outputs": [
    {
     "data": {
      "text/html": [
       "<div>\n",
       "<style scoped>\n",
       "    .dataframe tbody tr th:only-of-type {\n",
       "        vertical-align: middle;\n",
       "    }\n",
       "\n",
       "    .dataframe tbody tr th {\n",
       "        vertical-align: top;\n",
       "    }\n",
       "\n",
       "    .dataframe thead th {\n",
       "        text-align: right;\n",
       "    }\n",
       "</style>\n",
       "<table border=\"1\" class=\"dataframe\">\n",
       "  <thead>\n",
       "    <tr style=\"text-align: right;\">\n",
       "      <th></th>\n",
       "      <th>Hypothesis</th>\n",
       "      <th>Impact</th>\n",
       "      <th>Confidence</th>\n",
       "      <th>Efforts</th>\n",
       "      <th>ICE</th>\n",
       "    </tr>\n",
       "  </thead>\n",
       "  <tbody>\n",
       "    <tr>\n",
       "      <th>8</th>\n",
       "      <td>Запустить акцию, дающую скидку на товар в день рождения</td>\n",
       "      <td>9</td>\n",
       "      <td>9</td>\n",
       "      <td>5</td>\n",
       "      <td>16.20</td>\n",
       "    </tr>\n",
       "    <tr>\n",
       "      <th>0</th>\n",
       "      <td>Добавить два новых канала привлечения трафика, что позволит привлекать на 30% больше пользователей</td>\n",
       "      <td>10</td>\n",
       "      <td>8</td>\n",
       "      <td>6</td>\n",
       "      <td>13.33</td>\n",
       "    </tr>\n",
       "    <tr>\n",
       "      <th>7</th>\n",
       "      <td>Добавить форму подписки на все основные страницы, чтобы собрать базу клиентов для email-рассылок</td>\n",
       "      <td>7</td>\n",
       "      <td>8</td>\n",
       "      <td>5</td>\n",
       "      <td>11.20</td>\n",
       "    </tr>\n",
       "    <tr>\n",
       "      <th>6</th>\n",
       "      <td>Показать на главной странице баннеры с актуальными акциями и распродажами, чтобы увеличить конверсию</td>\n",
       "      <td>3</td>\n",
       "      <td>8</td>\n",
       "      <td>3</td>\n",
       "      <td>8.00</td>\n",
       "    </tr>\n",
       "    <tr>\n",
       "      <th>2</th>\n",
       "      <td>Добавить блоки рекомендаций товаров на сайт интернет магазина, чтобы повысить конверсию и средний чек заказа</td>\n",
       "      <td>3</td>\n",
       "      <td>7</td>\n",
       "      <td>3</td>\n",
       "      <td>7.00</td>\n",
       "    </tr>\n",
       "    <tr>\n",
       "      <th>1</th>\n",
       "      <td>Запустить собственную службу доставки, что сократит срок доставки заказов</td>\n",
       "      <td>5</td>\n",
       "      <td>4</td>\n",
       "      <td>10</td>\n",
       "      <td>2.00</td>\n",
       "    </tr>\n",
       "    <tr>\n",
       "      <th>5</th>\n",
       "      <td>Добавить страницу отзывов клиентов о магазине, что позволит увеличить количество заказов</td>\n",
       "      <td>2</td>\n",
       "      <td>2</td>\n",
       "      <td>3</td>\n",
       "      <td>1.33</td>\n",
       "    </tr>\n",
       "    <tr>\n",
       "      <th>3</th>\n",
       "      <td>Изменить структура категорий, что увеличит конверсию, т.к. пользователи быстрее найдут нужный товар</td>\n",
       "      <td>3</td>\n",
       "      <td>3</td>\n",
       "      <td>8</td>\n",
       "      <td>1.12</td>\n",
       "    </tr>\n",
       "    <tr>\n",
       "      <th>4</th>\n",
       "      <td>Изменить цвет фона главной страницы, чтобы увеличить вовлеченность пользователей</td>\n",
       "      <td>1</td>\n",
       "      <td>1</td>\n",
       "      <td>1</td>\n",
       "      <td>1.00</td>\n",
       "    </tr>\n",
       "  </tbody>\n",
       "</table>\n",
       "</div>"
      ],
      "text/plain": [
       "                                                                                                     Hypothesis  \\\n",
       "8                                                       Запустить акцию, дающую скидку на товар в день рождения   \n",
       "0            Добавить два новых канала привлечения трафика, что позволит привлекать на 30% больше пользователей   \n",
       "7              Добавить форму подписки на все основные страницы, чтобы собрать базу клиентов для email-рассылок   \n",
       "6          Показать на главной странице баннеры с актуальными акциями и распродажами, чтобы увеличить конверсию   \n",
       "2  Добавить блоки рекомендаций товаров на сайт интернет магазина, чтобы повысить конверсию и средний чек заказа   \n",
       "1                                     Запустить собственную службу доставки, что сократит срок доставки заказов   \n",
       "5                      Добавить страницу отзывов клиентов о магазине, что позволит увеличить количество заказов   \n",
       "3           Изменить структура категорий, что увеличит конверсию, т.к. пользователи быстрее найдут нужный товар   \n",
       "4                              Изменить цвет фона главной страницы, чтобы увеличить вовлеченность пользователей   \n",
       "\n",
       "   Impact  Confidence  Efforts    ICE  \n",
       "8       9           9        5  16.20  \n",
       "0      10           8        6  13.33  \n",
       "7       7           8        5  11.20  \n",
       "6       3           8        3   8.00  \n",
       "2       3           7        3   7.00  \n",
       "1       5           4       10   2.00  \n",
       "5       2           2        3   1.33  \n",
       "3       3           3        8   1.12  \n",
       "4       1           1        1   1.00  "
      ]
     },
     "metadata": {},
     "output_type": "display_data"
    }
   ],
   "source": [
    "hypothesis['ICE'] = round((hypothesis['Impact'] * hypothesis['Confidence'] / hypothesis['Efforts']), 2)\n",
    "\n",
    "display(hypothesis[['Hypothesis', 'Impact', 'Confidence', 'Efforts','ICE']].sort_values(by='ICE', ascending=False))"
   ]
  },
  {
   "cell_type": "markdown",
   "id": "b57fe7e3",
   "metadata": {},
   "source": [
    "Наиболее перспективны гипотезы:\n",
    " - 8 (Запустить акцию, дающую скидку на товар в день рождения)\n",
    " - 0 (Добавить два новых канала привлечения трафика, что позволит привлекать на 30% больше пользователей)\n",
    " - 7 (Добавить форму подписки на все основные страницы, чтобы собрать базу клиентов для email-рассылок)"
   ]
  },
  {
   "cell_type": "markdown",
   "id": "2d64c183",
   "metadata": {},
   "source": [
    "## 2.2. RICE"
   ]
  },
  {
   "cell_type": "code",
   "execution_count": 13,
   "id": "c1843489",
   "metadata": {},
   "outputs": [
    {
     "data": {
      "text/html": [
       "<div>\n",
       "<style scoped>\n",
       "    .dataframe tbody tr th:only-of-type {\n",
       "        vertical-align: middle;\n",
       "    }\n",
       "\n",
       "    .dataframe tbody tr th {\n",
       "        vertical-align: top;\n",
       "    }\n",
       "\n",
       "    .dataframe thead th {\n",
       "        text-align: right;\n",
       "    }\n",
       "</style>\n",
       "<table border=\"1\" class=\"dataframe\">\n",
       "  <thead>\n",
       "    <tr style=\"text-align: right;\">\n",
       "      <th></th>\n",
       "      <th>Hypothesis</th>\n",
       "      <th>Reach</th>\n",
       "      <th>Impact</th>\n",
       "      <th>Confidence</th>\n",
       "      <th>Efforts</th>\n",
       "      <th>RICE</th>\n",
       "    </tr>\n",
       "  </thead>\n",
       "  <tbody>\n",
       "    <tr>\n",
       "      <th>7</th>\n",
       "      <td>Добавить форму подписки на все основные страницы, чтобы собрать базу клиентов для email-рассылок</td>\n",
       "      <td>10</td>\n",
       "      <td>7</td>\n",
       "      <td>8</td>\n",
       "      <td>5</td>\n",
       "      <td>112.0</td>\n",
       "    </tr>\n",
       "    <tr>\n",
       "      <th>2</th>\n",
       "      <td>Добавить блоки рекомендаций товаров на сайт интернет магазина, чтобы повысить конверсию и средний чек заказа</td>\n",
       "      <td>8</td>\n",
       "      <td>3</td>\n",
       "      <td>7</td>\n",
       "      <td>3</td>\n",
       "      <td>56.0</td>\n",
       "    </tr>\n",
       "    <tr>\n",
       "      <th>0</th>\n",
       "      <td>Добавить два новых канала привлечения трафика, что позволит привлекать на 30% больше пользователей</td>\n",
       "      <td>3</td>\n",
       "      <td>10</td>\n",
       "      <td>8</td>\n",
       "      <td>6</td>\n",
       "      <td>40.0</td>\n",
       "    </tr>\n",
       "    <tr>\n",
       "      <th>6</th>\n",
       "      <td>Показать на главной странице баннеры с актуальными акциями и распродажами, чтобы увеличить конверсию</td>\n",
       "      <td>5</td>\n",
       "      <td>3</td>\n",
       "      <td>8</td>\n",
       "      <td>3</td>\n",
       "      <td>40.0</td>\n",
       "    </tr>\n",
       "    <tr>\n",
       "      <th>8</th>\n",
       "      <td>Запустить акцию, дающую скидку на товар в день рождения</td>\n",
       "      <td>1</td>\n",
       "      <td>9</td>\n",
       "      <td>9</td>\n",
       "      <td>5</td>\n",
       "      <td>16.2</td>\n",
       "    </tr>\n",
       "    <tr>\n",
       "      <th>3</th>\n",
       "      <td>Изменить структура категорий, что увеличит конверсию, т.к. пользователи быстрее найдут нужный товар</td>\n",
       "      <td>8</td>\n",
       "      <td>3</td>\n",
       "      <td>3</td>\n",
       "      <td>8</td>\n",
       "      <td>9.0</td>\n",
       "    </tr>\n",
       "    <tr>\n",
       "      <th>1</th>\n",
       "      <td>Запустить собственную службу доставки, что сократит срок доставки заказов</td>\n",
       "      <td>2</td>\n",
       "      <td>5</td>\n",
       "      <td>4</td>\n",
       "      <td>10</td>\n",
       "      <td>4.0</td>\n",
       "    </tr>\n",
       "    <tr>\n",
       "      <th>5</th>\n",
       "      <td>Добавить страницу отзывов клиентов о магазине, что позволит увеличить количество заказов</td>\n",
       "      <td>3</td>\n",
       "      <td>2</td>\n",
       "      <td>2</td>\n",
       "      <td>3</td>\n",
       "      <td>4.0</td>\n",
       "    </tr>\n",
       "    <tr>\n",
       "      <th>4</th>\n",
       "      <td>Изменить цвет фона главной страницы, чтобы увеличить вовлеченность пользователей</td>\n",
       "      <td>3</td>\n",
       "      <td>1</td>\n",
       "      <td>1</td>\n",
       "      <td>1</td>\n",
       "      <td>3.0</td>\n",
       "    </tr>\n",
       "  </tbody>\n",
       "</table>\n",
       "</div>"
      ],
      "text/plain": [
       "                                                                                                     Hypothesis  \\\n",
       "7              Добавить форму подписки на все основные страницы, чтобы собрать базу клиентов для email-рассылок   \n",
       "2  Добавить блоки рекомендаций товаров на сайт интернет магазина, чтобы повысить конверсию и средний чек заказа   \n",
       "0            Добавить два новых канала привлечения трафика, что позволит привлекать на 30% больше пользователей   \n",
       "6          Показать на главной странице баннеры с актуальными акциями и распродажами, чтобы увеличить конверсию   \n",
       "8                                                       Запустить акцию, дающую скидку на товар в день рождения   \n",
       "3           Изменить структура категорий, что увеличит конверсию, т.к. пользователи быстрее найдут нужный товар   \n",
       "1                                     Запустить собственную службу доставки, что сократит срок доставки заказов   \n",
       "5                      Добавить страницу отзывов клиентов о магазине, что позволит увеличить количество заказов   \n",
       "4                              Изменить цвет фона главной страницы, чтобы увеличить вовлеченность пользователей   \n",
       "\n",
       "   Reach  Impact  Confidence  Efforts   RICE  \n",
       "7     10       7           8        5  112.0  \n",
       "2      8       3           7        3   56.0  \n",
       "0      3      10           8        6   40.0  \n",
       "6      5       3           8        3   40.0  \n",
       "8      1       9           9        5   16.2  \n",
       "3      8       3           3        8    9.0  \n",
       "1      2       5           4       10    4.0  \n",
       "5      3       2           2        3    4.0  \n",
       "4      3       1           1        1    3.0  "
      ]
     },
     "metadata": {},
     "output_type": "display_data"
    }
   ],
   "source": [
    "hypothesis['RICE'] = round((hypothesis['Reach'] * hypothesis['Impact'] * hypothesis['Confidence'] / hypothesis['Efforts']), 2)\n",
    "\n",
    "display(hypothesis[['Hypothesis', 'Reach', 'Impact', 'Confidence', 'Efforts','RICE']].sort_values(by='RICE', ascending=False))"
   ]
  },
  {
   "cell_type": "markdown",
   "id": "28e5a8b6",
   "metadata": {},
   "source": [
    "Наиболее перспективны гипотезы:\n",
    " - 7 (Добавить форму подписки на все основные страницы, чтобы собрать базу клиентов для email-рассылок)\n",
    " - 2 (Добавить блоки рекомендаций товаров на сайт интернет магазина, чтобы повысить конверсию и средний чек заказа\t)\n",
    " - 0 (Добавить два новых канала привлечения трафика, что позволит привлекать на 30% больше пользователей)\n",
    " - 6 (Показать на главной странице баннеры с актуальными акциями и распродажами, чтобы увеличить конверсию)"
   ]
  },
  {
   "cell_type": "markdown",
   "id": "389ede72",
   "metadata": {},
   "source": [
    "### Вывод:\n",
    "\n",
    "1. Стоит начать тестирование с 7 гипотезы (Добавить форму подписки на все основные страницы, чтобы собрать базу клиентов для email-рассылок), так как она входит в топ-3 обоих показателей. Она затронет наибольшее количество пользователей.\n",
    "2. Затем стоит протестировать 0 гипотезу (Добавить два новых канала привлечения трафика, что позволит привлекать на 30% больше пользователей), она тоже входит в топ-3 обоих показателей. Она незначительно повлияет на старых пользователей, зато привлечет новых. \n",
    "3. Также стоит обратить внимение на 8 гипотезу (Запустить акцию, дающую скидку на товар в день рождения). Она затронет пользователей только один день в году (можно растянуть на три дня), но с большей вероятностью принесет пользу, так как все любят подарки на день рождения.\n",
    "\n",
    "Стоит тестировать сначала 7, а не 0, так как показатель RICE выше в два раза, а ICE ниже всего на 15%. Соответсвенно, ее успех должен быть выше.\n",
    "\n",
    "*Приоретизация изменилась из-за учета количество пользователей, на которых повлияет тест гипотезы. Чем больше пользователей это затронет, тем выше показатель.*\n",
    "\n",
    "*Для выбора гипотезы для анализа необходимо учитывать оба показателя, так как в связке они покажут наиболее перспективную гипотезу.*\n",
    "\n"
   ]
  },
  {
   "cell_type": "markdown",
   "id": "464566c8",
   "metadata": {},
   "source": [
    "# 3. Анализ A/B-теста"
   ]
  },
  {
   "cell_type": "code",
   "execution_count": 14,
   "id": "187b24b7",
   "metadata": {},
   "outputs": [
    {
     "data": {
      "text/html": [
       "<div>\n",
       "<style scoped>\n",
       "    .dataframe tbody tr th:only-of-type {\n",
       "        vertical-align: middle;\n",
       "    }\n",
       "\n",
       "    .dataframe tbody tr th {\n",
       "        vertical-align: top;\n",
       "    }\n",
       "\n",
       "    .dataframe thead th {\n",
       "        text-align: right;\n",
       "    }\n",
       "</style>\n",
       "<table border=\"1\" class=\"dataframe\">\n",
       "  <thead>\n",
       "    <tr style=\"text-align: right;\">\n",
       "      <th></th>\n",
       "      <th>orders</th>\n",
       "      <th>buyers</th>\n",
       "      <th>date</th>\n",
       "      <th>revenue</th>\n",
       "      <th>group</th>\n",
       "      <th>visitors</th>\n",
       "    </tr>\n",
       "  </thead>\n",
       "  <tbody>\n",
       "    <tr>\n",
       "      <th>0</th>\n",
       "      <td>23</td>\n",
       "      <td>19</td>\n",
       "      <td>2019-08-01</td>\n",
       "      <td>142779</td>\n",
       "      <td>A</td>\n",
       "      <td>719</td>\n",
       "    </tr>\n",
       "    <tr>\n",
       "      <th>1</th>\n",
       "      <td>17</td>\n",
       "      <td>17</td>\n",
       "      <td>2019-08-01</td>\n",
       "      <td>59758</td>\n",
       "      <td>B</td>\n",
       "      <td>713</td>\n",
       "    </tr>\n",
       "    <tr>\n",
       "      <th>2</th>\n",
       "      <td>42</td>\n",
       "      <td>36</td>\n",
       "      <td>2019-08-02</td>\n",
       "      <td>234381</td>\n",
       "      <td>A</td>\n",
       "      <td>1338</td>\n",
       "    </tr>\n",
       "    <tr>\n",
       "      <th>3</th>\n",
       "      <td>40</td>\n",
       "      <td>39</td>\n",
       "      <td>2019-08-02</td>\n",
       "      <td>221801</td>\n",
       "      <td>B</td>\n",
       "      <td>1294</td>\n",
       "    </tr>\n",
       "    <tr>\n",
       "      <th>4</th>\n",
       "      <td>66</td>\n",
       "      <td>60</td>\n",
       "      <td>2019-08-03</td>\n",
       "      <td>346854</td>\n",
       "      <td>A</td>\n",
       "      <td>1845</td>\n",
       "    </tr>\n",
       "    <tr>\n",
       "      <th>...</th>\n",
       "      <td>...</td>\n",
       "      <td>...</td>\n",
       "      <td>...</td>\n",
       "      <td>...</td>\n",
       "      <td>...</td>\n",
       "      <td>...</td>\n",
       "    </tr>\n",
       "    <tr>\n",
       "      <th>57</th>\n",
       "      <td>510</td>\n",
       "      <td>490</td>\n",
       "      <td>2019-08-29</td>\n",
       "      <td>4746610</td>\n",
       "      <td>B</td>\n",
       "      <td>17708</td>\n",
       "    </tr>\n",
       "    <tr>\n",
       "      <th>58</th>\n",
       "      <td>460</td>\n",
       "      <td>437</td>\n",
       "      <td>2019-08-30</td>\n",
       "      <td>3311413</td>\n",
       "      <td>A</td>\n",
       "      <td>18037</td>\n",
       "    </tr>\n",
       "    <tr>\n",
       "      <th>59</th>\n",
       "      <td>531</td>\n",
       "      <td>511</td>\n",
       "      <td>2019-08-30</td>\n",
       "      <td>4955833</td>\n",
       "      <td>B</td>\n",
       "      <td>18198</td>\n",
       "    </tr>\n",
       "    <tr>\n",
       "      <th>60</th>\n",
       "      <td>468</td>\n",
       "      <td>445</td>\n",
       "      <td>2019-08-31</td>\n",
       "      <td>3364656</td>\n",
       "      <td>A</td>\n",
       "      <td>18736</td>\n",
       "    </tr>\n",
       "    <tr>\n",
       "      <th>61</th>\n",
       "      <td>548</td>\n",
       "      <td>528</td>\n",
       "      <td>2019-08-31</td>\n",
       "      <td>5068972</td>\n",
       "      <td>B</td>\n",
       "      <td>18916</td>\n",
       "    </tr>\n",
       "  </tbody>\n",
       "</table>\n",
       "<p>62 rows × 6 columns</p>\n",
       "</div>"
      ],
      "text/plain": [
       "    orders  buyers       date  revenue group  visitors\n",
       "0       23      19 2019-08-01   142779     A       719\n",
       "1       17      17 2019-08-01    59758     B       713\n",
       "2       42      36 2019-08-02   234381     A      1338\n",
       "3       40      39 2019-08-02   221801     B      1294\n",
       "4       66      60 2019-08-03   346854     A      1845\n",
       "..     ...     ...        ...      ...   ...       ...\n",
       "57     510     490 2019-08-29  4746610     B     17708\n",
       "58     460     437 2019-08-30  3311413     A     18037\n",
       "59     531     511 2019-08-30  4955833     B     18198\n",
       "60     468     445 2019-08-31  3364656     A     18736\n",
       "61     548     528 2019-08-31  5068972     B     18916\n",
       "\n",
       "[62 rows x 6 columns]"
      ]
     },
     "execution_count": 14,
     "metadata": {},
     "output_type": "execute_result"
    }
   ],
   "source": [
    "datesGroups = orders[['date', 'group']].drop_duplicates()\n",
    "\n",
    "ordersAggregated = datesGroups.apply(\n",
    "    lambda x: orders[\n",
    "        np.logical_and(\n",
    "            orders['date'] <= x['date'], orders['group'] == x['group']\n",
    "        )\n",
    "    ].agg(\n",
    "        {\n",
    "            'orderId': 'nunique',\n",
    "            'userId': 'nunique',\n",
    "            'date': 'max',\n",
    "            'revenue': 'sum',\n",
    "            'group': 'max',\n",
    "        }\n",
    "    ),\n",
    "    axis=1,\n",
    ").sort_values(by=['date', 'group'])\n",
    "\n",
    "visitorsAggregated = datesGroups.apply(\n",
    "    lambda x: visitors[\n",
    "        np.logical_and(\n",
    "            visitors['date'] <= x['date'], visitors['group'] == x['group']\n",
    "        )\n",
    "    ].agg({'date': 'max', 'group': 'max', 'visitors': 'sum'}),\n",
    "    axis=1,\n",
    ").sort_values(by=['date', 'group'])\n",
    "\n",
    "cumulativeData = ordersAggregated.merge(\n",
    "    visitorsAggregated, left_on=['date', 'group'], right_on=['date', 'group']\n",
    ")\n",
    "\n",
    "cumulativeData.columns = [\n",
    "    'orders',\n",
    "    'buyers',\n",
    "    'date',\n",
    "    'revenue',\n",
    "    'group',\n",
    "    'visitors',\n",
    "]\n",
    "\n",
    "cumulativeRevenueA = cumulativeData[cumulativeData['group']=='A'][['orders', 'buyers', 'date', 'revenue', 'group', 'visitors']]\n",
    "cumulativeRevenueB = cumulativeData[cumulativeData['group']=='B'][['orders', 'buyers', 'date', 'revenue', 'group', 'visitors']]\n",
    "\n",
    "cumulativeData"
   ]
  },
  {
   "cell_type": "code",
   "execution_count": 15,
   "id": "6e1d01ec",
   "metadata": {},
   "outputs": [
    {
     "name": "stdout",
     "output_type": "stream",
     "text": [
      "Минимальная дата анализа: 2019-08-01\n",
      "Максимальная дата анализа: 2019-08-31\n"
     ]
    }
   ],
   "source": [
    "print('Минимальная дата анализа:', cumulativeData['date'].dt.date.min())\n",
    "print('Максимальная дата анализа:', cumulativeData['date'].dt.date.max())"
   ]
  },
  {
   "cell_type": "markdown",
   "id": "7439ab87",
   "metadata": {},
   "source": [
    "## 3.1. Кумулятивная выручка по группам"
   ]
  },
  {
   "cell_type": "code",
   "execution_count": 16,
   "id": "6a4d5e75",
   "metadata": {},
   "outputs": [
    {
     "data": {
      "image/png": "[encoded data removed]",
      "text/plain": [
       "<Figure size 1080x432 with 1 Axes>"
      ]
     },
     "metadata": {
      "needs_background": "light"
     },
     "output_type": "display_data"
    }
   ],
   "source": [
    "plt.figure(figsize=(15,6))\n",
    "plt.plot(cumulativeRevenueA['date'], cumulativeRevenueA['revenue'], label='A')\n",
    "plt.plot(cumulativeRevenueB['date'], cumulativeRevenueB['revenue'], label='B')\n",
    "\n",
    "plt.title('График динамики кумулятивной выручки по группам А и В')\n",
    "plt.xlabel('Дата')\n",
    "plt.ylabel('Выручка, млн руб')\n",
    "plt.legend() \n",
    "\n",
    "plt.show()"
   ]
  },
  {
   "cell_type": "markdown",
   "id": "703faeb4",
   "metadata": {},
   "source": [
    "1. Кумулятивная выручка группы А растет линейно, и она меньше, чем у группы В.\n",
    "2. В группе В есть резкий скачок в районе 18-го августа, что может сигнализировать о всплесках числа заказов, либо о появлении очень дорогих заказов в выборке."
   ]
  },
  {
   "cell_type": "markdown",
   "id": "ae24d11a",
   "metadata": {},
   "source": [
    "## 3.2. Кумулятивный средний чек по группам"
   ]
  },
  {
   "cell_type": "code",
   "execution_count": 17,
   "id": "1afc24ce",
   "metadata": {},
   "outputs": [
    {
     "data": {
      "image/png": "[encoded data removed]",
      "text/plain": [
       "<Figure size 1080x432 with 1 Axes>"
      ]
     },
     "metadata": {
      "needs_background": "light"
     },
     "output_type": "display_data"
    }
   ],
   "source": [
    "plt.figure(figsize=(15,6))\n",
    "plt.plot(cumulativeRevenueA['date'], cumulativeRevenueA['revenue']/cumulativeRevenueA['orders'], label='A')\n",
    "plt.plot(cumulativeRevenueB['date'], cumulativeRevenueB['revenue']/cumulativeRevenueB['orders'], label='B')\n",
    "\n",
    "plt.title('График динамики кумулятивного среднего чека по группам А и В')\n",
    "plt.xlabel('Дата')\n",
    "plt.ylabel('Средний чек, руб')\n",
    "plt.legend() \n",
    "\n",
    "plt.show()"
   ]
  },
  {
   "cell_type": "markdown",
   "id": "f9c06e46",
   "metadata": {},
   "source": [
    "1. Средний чек в группе А через какое-то время стабилизировался. \n",
    "2. Средний чек группы В показал резкий рывок, что говорит в пользу версии о дорогой покупке."
   ]
  },
  {
   "cell_type": "markdown",
   "id": "0680e2f4",
   "metadata": {},
   "source": [
    "## 3.3. Относительное изменение кумулятивного среднего чека группы B к группе A"
   ]
  },
  {
   "cell_type": "code",
   "execution_count": 18,
   "id": "e5d74c68",
   "metadata": {},
   "outputs": [
    {
     "data": {
      "image/png": "[encoded data removed]",
      "text/plain": [
       "<Figure size 1080x432 with 1 Axes>"
      ]
     },
     "metadata": {
      "needs_background": "light"
     },
     "output_type": "display_data"
    }
   ],
   "source": [
    "mergedCumulativeRevenue = cumulativeRevenueA.merge(cumulativeRevenueB, left_on='date', right_on='date', how='left', suffixes=['A', 'B'])\n",
    "\n",
    "plt.figure(figsize=(15,6))\n",
    "plt.plot(mergedCumulativeRevenue['date'], (mergedCumulativeRevenue['revenueB']/mergedCumulativeRevenue['ordersB'])/(mergedCumulativeRevenue['revenueA']/mergedCumulativeRevenue['ordersA'])-1)\n",
    "\n",
    "plt.title('График относительного изменения кумулятивного среднего чека группы B к группе A')\n",
    "plt.xlabel('Дата')\n",
    "plt.axhline(y=0, color='black', linestyle='--') \n",
    "\n",
    "plt.show()"
   ]
  },
  {
   "cell_type": "markdown",
   "id": "96d47fe6",
   "metadata": {},
   "source": [
    "1. График резко скачет в нескольких точках - определённо, имеют место какие-то выбросы и крупные заказы."
   ]
  },
  {
   "cell_type": "markdown",
   "id": "66c85172",
   "metadata": {},
   "source": [
    "## 3.4. Кумулятивное среднее количество заказов на посетителя по группам"
   ]
  },
  {
   "cell_type": "code",
   "execution_count": 19,
   "id": "b4a22efc",
   "metadata": {},
   "outputs": [
    {
     "data": {
      "image/png": "[encoded data removed]",
      "text/plain": [
       "<Figure size 1080x432 with 1 Axes>"
      ]
     },
     "metadata": {
      "needs_background": "light"
     },
     "output_type": "display_data"
    }
   ],
   "source": [
    "plt.figure(figsize=(15,6))\n",
    "plt.plot(cumulativeRevenueA['date'], cumulativeRevenueA['orders']/cumulativeRevenueA['visitors'], label='A')\n",
    "plt.plot(cumulativeRevenueB['date'], cumulativeRevenueB['orders']/cumulativeRevenueB['visitors'], label='B')\n",
    "\n",
    "plt.title('Кумулятивное среднее количество заказов на посетителя по группам')\n",
    "plt.xlabel('Дата')\n",
    "plt.ylabel('Среднее количество заказов, руб')\n",
    "plt.legend() \n",
    "\n",
    "plt.show()"
   ]
  },
  {
   "cell_type": "markdown",
   "id": "ff6b3b95",
   "metadata": {},
   "source": [
    "1. Сначала конверсии колебались, но довольно быстро выровнялись.\n",
    "2. Результат группы В кажется более привлекательным."
   ]
  },
  {
   "cell_type": "markdown",
   "id": "428637c5",
   "metadata": {},
   "source": [
    "## 3.5. Относительное изменение кумулятивного среднего количества заказов на посетителя группы B к группе A"
   ]
  },
  {
   "cell_type": "code",
   "execution_count": 20,
   "id": "bea0b788",
   "metadata": {},
   "outputs": [
    {
     "data": {
      "image/png": "[encoded data removed]",
      "text/plain": [
       "<Figure size 1080x432 with 1 Axes>"
      ]
     },
     "metadata": {
      "needs_background": "light"
     },
     "output_type": "display_data"
    }
   ],
   "source": [
    "plt.figure(figsize=(15,6))\n",
    "plt.plot(mergedCumulativeRevenue['date'], (mergedCumulativeRevenue['ordersB']/mergedCumulativeRevenue['visitorsB'])/(mergedCumulativeRevenue['ordersA']/mergedCumulativeRevenue['visitorsA'])-1)\n",
    "\n",
    "plt.title('Относительное изменение кумулятивного среднего количества заказов на посетителя группы B к группе A')\n",
    "plt.xlabel('Дата')\n",
    "plt.axhline(y=0, color='black', linestyle='--') \n",
    "\n",
    "plt.show()"
   ]
  },
  {
   "cell_type": "markdown",
   "id": "11a49841",
   "metadata": {},
   "source": [
    "1. До 3 августа конверсия группы была ниже конверсии группы А, далее наблюдается рост конверсии В относительно А."
   ]
  },
  {
   "cell_type": "markdown",
   "id": "d9688c8e",
   "metadata": {},
   "source": [
    "## 3.6.1. Зависимость количества заказов по пользователям"
   ]
  },
  {
   "cell_type": "code",
   "execution_count": 21,
   "id": "4485ee47",
   "metadata": {},
   "outputs": [],
   "source": [
    "ordersByUsers = (\n",
    "    orders.groupby('userId', as_index=False)\n",
    "    .agg({'orderId': 'nunique'})\n",
    ")\n",
    "\n",
    "ordersByUsers.columns = ['userId', 'orders']\n",
    "\n",
    "x_values = pd.Series(range(0,len(ordersByUsers['orders'])))"
   ]
  },
  {
   "cell_type": "code",
   "execution_count": 22,
   "id": "6d34c6c3",
   "metadata": {},
   "outputs": [
    {
     "data": {
      "image/png": "[encoded data removed]",
      "text/plain": [
       "<Figure size 734.4x432 with 1 Axes>"
      ]
     },
     "metadata": {
      "needs_background": "light"
     },
     "output_type": "display_data"
    }
   ],
   "source": [
    "sns.relplot(\n",
    "    x=x_values,\n",
    "    y=ordersByUsers['orders'], \n",
    "    kind=\"scatter\",\n",
    "    height=6,\n",
    "    aspect=1.7)\n",
    "\n",
    "plt.title('Распределение количества заказов по пользователям')\n",
    "plt.xlabel('Количество пользователей')\n",
    "plt.ylabel('Количество заказов')\n",
    "\n",
    "plt.show()"
   ]
  },
  {
   "cell_type": "markdown",
   "id": "e18d7f21",
   "metadata": {},
   "source": [
    "## 3.6.2. 95-й и 99-й перцентили количества заказов на пользователя"
   ]
  },
  {
   "cell_type": "code",
   "execution_count": 23,
   "id": "e3d4184a",
   "metadata": {},
   "outputs": [
    {
     "data": {
      "text/plain": [
       "array([1., 2.])"
      ]
     },
     "execution_count": 23,
     "metadata": {},
     "output_type": "execute_result"
    }
   ],
   "source": [
    "np.percentile(ordersByUsers['orders'], [95, 99])"
   ]
  },
  {
   "cell_type": "markdown",
   "id": "d48e1764",
   "metadata": {},
   "source": [
    "1. Менее 1% покупателей - 2 и более заказов, 95% покупателей делают только 1 заказ.\n",
    "\n",
    "2. Выбираем верхнюю границ в 2 заказа."
   ]
  },
  {
   "cell_type": "markdown",
   "id": "c0add3be",
   "metadata": {},
   "source": [
    "## 3.7.1. Зависимость стоимости заказов"
   ]
  },
  {
   "cell_type": "code",
   "execution_count": 24,
   "id": "22074315",
   "metadata": {},
   "outputs": [
    {
     "data": {
      "image/png": "[encoded data removed]",
      "text/plain": [
       "<Figure size 777.275x432 with 1 Axes>"
      ]
     },
     "metadata": {
      "needs_background": "light"
     },
     "output_type": "display_data"
    }
   ],
   "source": [
    "x_values = pd.Series(range(0, len(orders['revenue'])))\n",
    "\n",
    "sns.relplot(\n",
    "    x=x_values,\n",
    "    y=orders['revenue'], \n",
    "    hue=orders['group'],\n",
    "    kind=\"scatter\",\n",
    "    height=6,\n",
    "    aspect=1.7)\n",
    "\n",
    "plt.title('Распределение стоимости заказов')\n",
    "plt.xlabel('Количество пользователей')\n",
    "plt.ylabel('Количество заказов')\n",
    "\n",
    "plt.show()"
   ]
  },
  {
   "cell_type": "markdown",
   "id": "69713e83",
   "metadata": {},
   "source": [
    "Так как есть одно аномально большое значение, стоит построить график учетом лимита для понимания общей картины"
   ]
  },
  {
   "cell_type": "code",
   "execution_count": 25,
   "id": "4ea18c09",
   "metadata": {},
   "outputs": [
    {
     "data": {
      "image/png": "[encoded data removed]",
      "text/plain": [
       "<Figure size 777.275x432 with 1 Axes>"
      ]
     },
     "metadata": {
      "needs_background": "light"
     },
     "output_type": "display_data"
    }
   ],
   "source": [
    "sns.relplot(\n",
    "    x=x_values,\n",
    "    y=orders['revenue'], \n",
    "    hue=orders['group'],\n",
    "    kind=\"scatter\",\n",
    "    height=6,\n",
    "    aspect=1.7)\n",
    "\n",
    "plt.title('Распределение стоимости заказов')\n",
    "plt.xlabel('Количество пользователей')\n",
    "plt.ylabel('Количество заказов')\n",
    "plt.ylim(0, 100000)\n",
    "\n",
    "plt.show()"
   ]
  },
  {
   "cell_type": "markdown",
   "id": "f59abf97",
   "metadata": {},
   "source": [
    "## 3.7.2. 95-й и 99-й перцентили стоимости заказов"
   ]
  },
  {
   "cell_type": "code",
   "execution_count": 26,
   "id": "370b0a9d",
   "metadata": {},
   "outputs": [
    {
     "data": {
      "text/plain": [
       "array([26785., 53904.])"
      ]
     },
     "execution_count": 26,
     "metadata": {},
     "output_type": "execute_result"
    }
   ],
   "source": [
    "np.percentile(orders['revenue'], [95, 99])"
   ]
  },
  {
   "cell_type": "markdown",
   "id": "789820a4",
   "metadata": {},
   "source": [
    "1. Стоимость заказов свыше 26 785 характерна 5% пользователям, 53 904 - 1%.\n",
    "\n",
    "2. Выберем верхнюю границу - 53 904."
   ]
  },
  {
   "cell_type": "markdown",
   "id": "360afcf0",
   "metadata": {},
   "source": [
    "## 3.10. Статистическая значимость различий"
   ]
  },
  {
   "cell_type": "markdown",
   "id": "02d773df",
   "metadata": {},
   "source": [
    "### 3.10.1. Среднее количество заказов на посетителя между группами по «сырым» данным"
   ]
  },
  {
   "cell_type": "markdown",
   "id": "1caa9af7",
   "metadata": {},
   "source": [
    "Введем основную и альтернативные гипотезы:\n",
    "\n",
    " - *Н0: различий в конверсии между группами нет*\n",
    " - *Н1: различия в конверсии между группами есть*\n",
    " \n",
    "\n",
    "Уровень значимости: alpha = 0,05"
   ]
  },
  {
   "cell_type": "code",
   "execution_count": 27,
   "id": "fec56192",
   "metadata": {},
   "outputs": [
    {
     "data": {
      "text/html": [
       "<div>\n",
       "<style scoped>\n",
       "    .dataframe tbody tr th:only-of-type {\n",
       "        vertical-align: middle;\n",
       "    }\n",
       "\n",
       "    .dataframe tbody tr th {\n",
       "        vertical-align: top;\n",
       "    }\n",
       "\n",
       "    .dataframe thead th {\n",
       "        text-align: right;\n",
       "    }\n",
       "</style>\n",
       "<table border=\"1\" class=\"dataframe\">\n",
       "  <thead>\n",
       "    <tr style=\"text-align: right;\">\n",
       "      <th></th>\n",
       "      <th>date</th>\n",
       "      <th>ordersPerDateA</th>\n",
       "      <th>revenuePerDateA</th>\n",
       "      <th>ordersPerDateB</th>\n",
       "      <th>revenuePerDateB</th>\n",
       "      <th>ordersCummulativeA</th>\n",
       "      <th>revenueCummulativeA</th>\n",
       "      <th>ordersCummulativeB</th>\n",
       "      <th>revenueCummulativeB</th>\n",
       "      <th>visitorsPerDateA</th>\n",
       "      <th>visitorsPerDateB</th>\n",
       "      <th>visitorsCummulativeA</th>\n",
       "      <th>visitorsCummulativeB</th>\n",
       "    </tr>\n",
       "  </thead>\n",
       "  <tbody>\n",
       "    <tr>\n",
       "      <th>0</th>\n",
       "      <td>2019-08-01</td>\n",
       "      <td>23</td>\n",
       "      <td>142779</td>\n",
       "      <td>17</td>\n",
       "      <td>59758</td>\n",
       "      <td>23</td>\n",
       "      <td>142779</td>\n",
       "      <td>17</td>\n",
       "      <td>59758</td>\n",
       "      <td>719</td>\n",
       "      <td>713</td>\n",
       "      <td>719</td>\n",
       "      <td>713</td>\n",
       "    </tr>\n",
       "    <tr>\n",
       "      <th>1</th>\n",
       "      <td>2019-08-02</td>\n",
       "      <td>19</td>\n",
       "      <td>91602</td>\n",
       "      <td>23</td>\n",
       "      <td>162043</td>\n",
       "      <td>42</td>\n",
       "      <td>234381</td>\n",
       "      <td>40</td>\n",
       "      <td>221801</td>\n",
       "      <td>619</td>\n",
       "      <td>581</td>\n",
       "      <td>1338</td>\n",
       "      <td>1294</td>\n",
       "    </tr>\n",
       "    <tr>\n",
       "      <th>2</th>\n",
       "      <td>2019-08-03</td>\n",
       "      <td>24</td>\n",
       "      <td>112473</td>\n",
       "      <td>14</td>\n",
       "      <td>67049</td>\n",
       "      <td>66</td>\n",
       "      <td>346854</td>\n",
       "      <td>54</td>\n",
       "      <td>288850</td>\n",
       "      <td>507</td>\n",
       "      <td>509</td>\n",
       "      <td>1845</td>\n",
       "      <td>1803</td>\n",
       "    </tr>\n",
       "    <tr>\n",
       "      <th>3</th>\n",
       "      <td>2019-08-04</td>\n",
       "      <td>11</td>\n",
       "      <td>41176</td>\n",
       "      <td>14</td>\n",
       "      <td>96890</td>\n",
       "      <td>77</td>\n",
       "      <td>388030</td>\n",
       "      <td>68</td>\n",
       "      <td>385740</td>\n",
       "      <td>717</td>\n",
       "      <td>770</td>\n",
       "      <td>2562</td>\n",
       "      <td>2573</td>\n",
       "    </tr>\n",
       "    <tr>\n",
       "      <th>4</th>\n",
       "      <td>2019-08-05</td>\n",
       "      <td>22</td>\n",
       "      <td>86383</td>\n",
       "      <td>21</td>\n",
       "      <td>89908</td>\n",
       "      <td>99</td>\n",
       "      <td>474413</td>\n",
       "      <td>89</td>\n",
       "      <td>475648</td>\n",
       "      <td>756</td>\n",
       "      <td>707</td>\n",
       "      <td>3318</td>\n",
       "      <td>3280</td>\n",
       "    </tr>\n",
       "  </tbody>\n",
       "</table>\n",
       "</div>"
      ],
      "text/plain": [
       "        date  ordersPerDateA  revenuePerDateA  ordersPerDateB  \\\n",
       "0 2019-08-01              23           142779              17   \n",
       "1 2019-08-02              19            91602              23   \n",
       "2 2019-08-03              24           112473              14   \n",
       "3 2019-08-04              11            41176              14   \n",
       "4 2019-08-05              22            86383              21   \n",
       "\n",
       "   revenuePerDateB  ordersCummulativeA  revenueCummulativeA  \\\n",
       "0            59758                  23               142779   \n",
       "1           162043                  42               234381   \n",
       "2            67049                  66               346854   \n",
       "3            96890                  77               388030   \n",
       "4            89908                  99               474413   \n",
       "\n",
       "   ordersCummulativeB  revenueCummulativeB  visitorsPerDateA  \\\n",
       "0                  17                59758               719   \n",
       "1                  40               221801               619   \n",
       "2                  54               288850               507   \n",
       "3                  68               385740               717   \n",
       "4                  89               475648               756   \n",
       "\n",
       "   visitorsPerDateB  visitorsCummulativeA  visitorsCummulativeB  \n",
       "0               713                   719                   713  \n",
       "1               581                  1338                  1294  \n",
       "2               509                  1845                  1803  \n",
       "3               770                  2562                  2573  \n",
       "4               707                  3318                  3280  "
      ]
     },
     "metadata": {},
     "output_type": "display_data"
    }
   ],
   "source": [
    "visitorsADaily = visitors[visitors['group'] == 'A'][['date', 'visitors']]\n",
    "visitorsADaily.columns = ['date', 'visitorsPerDateA']\n",
    "\n",
    "visitorsACummulative = visitorsADaily.apply(\n",
    "    lambda x: visitorsADaily[visitorsADaily['date'] <= x['date']].agg(\n",
    "        {'date': 'max', 'visitorsPerDateA': 'sum'}\n",
    "    ),\n",
    "    axis=1,\n",
    ")\n",
    "visitorsACummulative.columns = ['date', 'visitorsCummulativeA']\n",
    "\n",
    "visitorsBDaily = visitors[visitors['group'] == 'B'][['date', 'visitors']]\n",
    "visitorsBDaily.columns = ['date', 'visitorsPerDateB']\n",
    "\n",
    "visitorsBCummulative = visitorsBDaily.apply(\n",
    "    lambda x: visitorsBDaily[visitorsBDaily['date'] <= x['date']].agg(\n",
    "        {'date': 'max', 'visitorsPerDateB': 'sum'}\n",
    "    ),\n",
    "    axis=1,\n",
    ")\n",
    "visitorsBCummulative.columns = ['date', 'visitorsCummulativeB']\n",
    "\n",
    "ordersADaily = (\n",
    "    orders[orders['group'] == 'A'][['date', 'orderId', 'userId', 'revenue']]\n",
    "    .groupby('date', as_index=False)\n",
    "    .agg({'orderId': pd.Series.nunique, 'revenue': 'sum'})\n",
    ")\n",
    "ordersADaily.columns = ['date', 'ordersPerDateA', 'revenuePerDateA']\n",
    "\n",
    "ordersACummulative = ordersADaily.apply(\n",
    "    lambda x: ordersADaily[ordersADaily['date'] <= x['date']].agg(\n",
    "        {'date': 'max', 'ordersPerDateA': 'sum', 'revenuePerDateA': 'sum'}\n",
    "    ),\n",
    "    axis=1,\n",
    ").sort_values(by=['date'])\n",
    "ordersACummulative.columns = [\n",
    "    'date',\n",
    "    'ordersCummulativeA',\n",
    "    'revenueCummulativeA',\n",
    "]\n",
    "\n",
    "ordersBDaily = (\n",
    "    orders[orders['group'] == 'B'][['date', 'orderId', 'userId', 'revenue']]\n",
    "    .groupby('date', as_index=False)\n",
    "    .agg({'orderId': pd.Series.nunique, 'revenue': 'sum'})\n",
    ")\n",
    "ordersBDaily.columns = ['date', 'ordersPerDateB', 'revenuePerDateB']\n",
    "\n",
    "ordersBCummulative = ordersBDaily.apply(\n",
    "    lambda x: ordersBDaily[ordersBDaily['date'] <= x['date']].agg(\n",
    "        {'date': 'max', 'ordersPerDateB': 'sum', 'revenuePerDateB': 'sum'}\n",
    "    ),\n",
    "    axis=1,\n",
    ").sort_values(by=['date'])\n",
    "ordersBCummulative.columns = [\n",
    "    'date',\n",
    "    'ordersCummulativeB',\n",
    "    'revenueCummulativeB',\n",
    "]\n",
    "\n",
    "data = (\n",
    "    ordersADaily.merge(\n",
    "        ordersBDaily, left_on='date', right_on='date', how='left'\n",
    "    )\n",
    "    .merge(ordersACummulative, left_on='date', right_on='date', how='left')\n",
    "    .merge(ordersBCummulative, left_on='date', right_on='date', how='left')\n",
    "    .merge(visitorsADaily, left_on='date', right_on='date', how='left')\n",
    "    .merge(visitorsBDaily, left_on='date', right_on='date', how='left')\n",
    "    .merge(visitorsACummulative, left_on='date', right_on='date', how='left')\n",
    "    .merge(visitorsBCummulative, left_on='date', right_on='date', how='left')\n",
    ")\n",
    "\n",
    "display(data.head(5))"
   ]
  },
  {
   "cell_type": "markdown",
   "id": "fb115b37",
   "metadata": {},
   "source": [
    "Названия столбцов данных:\n",
    " - date — дата;\n",
    " - ordersPerDateA — количество заказов в выбранную дату в группе A;\n",
    " - revenuePerDateA — суммарная выручка в выбранную дату в группе A;\n",
    " - ordersPerDateB — количество заказов в выбранную дату в группе B;\n",
    " - revenuePerDateB — суммарная выручка в выбранную дату в группе B;\n",
    " - ordersCummulativeA — суммарное число заказов до выбранной даты включительно в группе A;\n",
    " - revenueCummulativeA — суммарная выручка до выбранной даты включительно в группе A;\n",
    " - ordersCummulativeB — суммарное количество заказов до выбранной даты включительно в группе B;\n",
    " - revenueCummulativeB — суммарная выручка до выбранной даты включительно в группе B;\n",
    " - visitorsPerDateA — количество пользователей в выбранную дату в группе A;\n",
    " - visitorsPerDateB — количество пользователей в выбранную дату в группе B;\n",
    " - visitorsCummulativeA — количество пользователей до выбранной даты включительно в группе A;\n",
    " - visitorsCummulativeB — количество пользователей до выбранной даты включительно в группе B."
   ]
  },
  {
   "cell_type": "code",
   "execution_count": 28,
   "id": "ccb46450",
   "metadata": {},
   "outputs": [],
   "source": [
    "ordersByUsersA = (\n",
    "    orders[orders['group'] == 'A']\n",
    "    .groupby('userId', as_index=False)\n",
    "    .agg({'orderId': pd.Series.nunique})\n",
    ")\n",
    "ordersByUsersA.columns = ['userId', 'orders']\n",
    "\n",
    "ordersByUsersB = (\n",
    "    orders[orders['group'] == 'B']\n",
    "    .groupby('userId', as_index=False)\n",
    "    .agg({'orderId': pd.Series.nunique})\n",
    ")\n",
    "ordersByUsersB.columns = ['userId', 'orders'] "
   ]
  },
  {
   "cell_type": "code",
   "execution_count": 29,
   "id": "15b78e92",
   "metadata": {},
   "outputs": [
    {
     "name": "stdout",
     "output_type": "stream",
     "text": [
      "p-value = 0.011\n",
      "Относительный выигрыш группы B = 0.160\n"
     ]
    }
   ],
   "source": [
    "#Объявим переменные sampleA и sampleB, в которых пользователям из разных групп будет соответствовать количество заказов. \n",
    "#Тем, кто ничего не заказал, будут соответствовать нули. Это нужно, чтобы подготовить выборки к проверке критерием Манна-Уитни\n",
    "sampleA = pd.concat([ordersByUsersA['orders'],pd.Series(0, index=np.arange(data['visitorsPerDateA'].sum() - len(ordersByUsersA['orders'])), name='orders')],axis=0)\n",
    "sampleB = pd.concat([ordersByUsersB['orders'],pd.Series(0, index=np.arange(data['visitorsPerDateB'].sum() - len(ordersByUsersB['orders'])), name='orders')],axis=0)\n",
    "\n",
    "print('p-value =', \"{0:.3f}\".format(stats.mannwhitneyu(sampleA, sampleB)[1]))\n",
    "print('Относительный выигрыш группы B =', \"{0:.3f}\".format(sampleB.mean() / sampleA.mean() - 1))"
   ]
  },
  {
   "cell_type": "markdown",
   "id": "76b78bbf",
   "metadata": {},
   "source": [
    "1. По неочищенным данным различия в конверсии между группами есть.\n",
    "\n",
    "2. P-value = 0.011 меньше 0.05. Значит, нулевую гипотезу о том, что статистически значимых различий в конверсии между группами нет, отвергаем. \n"
   ]
  },
  {
   "cell_type": "markdown",
   "id": "fccdcd52",
   "metadata": {},
   "source": [
    "### 3.10.2. Средний чек заказа между группами по «сырым» данным"
   ]
  },
  {
   "cell_type": "markdown",
   "id": "bb03cf99",
   "metadata": {},
   "source": [
    "Введем основную и альтернативные гипотезы:\n",
    "\n",
    " - *Н0: различий в конверсии между группами нет*\n",
    " - *Н1: различия в конверсии между группами есть*\n",
    " \n",
    "\n",
    "Уровень значимости: alpha = 0,05"
   ]
  },
  {
   "cell_type": "code",
   "execution_count": 30,
   "id": "669ca597",
   "metadata": {},
   "outputs": [
    {
     "name": "stdout",
     "output_type": "stream",
     "text": [
      "p-value = 0.829\n",
      "Относительный выигрыш группы B = 0.287\n"
     ]
    }
   ],
   "source": [
    "print('p-value =', '{0:.3f}'.format(stats.mannwhitneyu(orders[orders['group']=='A']['revenue'], orders[orders['group']=='B']['revenue'])[1]))\n",
    "print('Относительный выигрыш группы B =', '{0:.3f}'.format(orders[orders['group']=='B']['revenue'].mean()/orders[orders['group']=='A']['revenue'].mean()-1))"
   ]
  },
  {
   "cell_type": "markdown",
   "id": "19e832c6",
   "metadata": {},
   "source": [
    "1. P-value значительно больше 0.05. Значит, причин отвергать нулевую гипотезу нет. \n",
    "\n",
    "2. Средний чек группы B значительно выше среднего чека группы A."
   ]
  },
  {
   "cell_type": "markdown",
   "id": "a5efe5f2",
   "metadata": {},
   "source": [
    "### 3.10.3. Среднее количество заказов на посетителя между группами по «очищенным» данным"
   ]
  },
  {
   "cell_type": "markdown",
   "id": "106a6eb1",
   "metadata": {},
   "source": [
    "Введем основную и альтернативные гипотезы:\n",
    "\n",
    " - *Н0: различий в конверсии между группами нет*\n",
    " - *Н1: различия в конверсии между группами есть*\n",
    " \n",
    "\n",
    "Уровень значимости: alpha = 0,05"
   ]
  },
  {
   "cell_type": "code",
   "execution_count": 31,
   "id": "e3120ee5",
   "metadata": {},
   "outputs": [
    {
     "data": {
      "text/plain": [
       "1099    148427295\n",
       "33      249864742\n",
       "58      611059232\n",
       "949     887908475\n",
       "744     888512513\n",
       "Name: userId, dtype: int64"
      ]
     },
     "metadata": {},
     "output_type": "display_data"
    },
    {
     "name": "stdout",
     "output_type": "stream",
     "text": [
      "количество аномалий - 16\n"
     ]
    }
   ],
   "source": [
    "usersWithManyOrders = pd.concat(\n",
    "    [\n",
    "        ordersByUsersA[ordersByUsersA['orders'] > np.percentile(ordersByUsers['orders'], 99)]['userId'],\n",
    "        ordersByUsersB[ordersByUsersB['orders'] > np.percentile(ordersByUsers['orders'], 99)]['userId'],\n",
    "    ],\n",
    "    axis=0,\n",
    ")\n",
    "usersWithExpensiveOrders = orders[orders['revenue'] > np.percentile(orders['revenue'], 99)]['userId']\n",
    "abnormalUsers = (\n",
    "    pd.concat([usersWithManyOrders, usersWithExpensiveOrders], axis=0)\n",
    "    .drop_duplicates()\n",
    "    .sort_values()\n",
    ")\n",
    "\n",
    "display(abnormalUsers.head(5))\n",
    "print('количество аномалий -', abnormalUsers.shape[0])"
   ]
  },
  {
   "cell_type": "markdown",
   "id": "a14809a2",
   "metadata": {},
   "source": [
    "Мы видим, что всего 16 заказов являются аномалиями, превышающими хотя бы один из критериев"
   ]
  },
  {
   "cell_type": "code",
   "execution_count": 32,
   "id": "ceefa71f",
   "metadata": {},
   "outputs": [
    {
     "name": "stdout",
     "output_type": "stream",
     "text": [
      "p-value = 0.007\n",
      "Относительный выигрыш группы B = 0.189\n"
     ]
    }
   ],
   "source": [
    "sampleAFiltered = pd.concat(\n",
    "    [\n",
    "        ordersByUsersA[\n",
    "            np.logical_not(ordersByUsersA['userId'].isin(abnormalUsers))\n",
    "        ]['orders'],\n",
    "        pd.Series(\n",
    "            0,\n",
    "            index=np.arange(\n",
    "                data['visitorsPerDateA'].sum() - len(ordersByUsersA['orders'])\n",
    "            ),\n",
    "            name='orders',\n",
    "        ),\n",
    "    ],\n",
    "    axis=0,\n",
    ")\n",
    "\n",
    "sampleBFiltered = pd.concat(\n",
    "    [\n",
    "        ordersByUsersB[\n",
    "            np.logical_not(ordersByUsersB['userId'].isin(abnormalUsers))\n",
    "        ]['orders'],\n",
    "        pd.Series(\n",
    "            0,\n",
    "            index=np.arange(\n",
    "                data['visitorsPerDateB'].sum() - len(ordersByUsersB['orders'])\n",
    "            ),\n",
    "            name='orders',\n",
    "        ),\n",
    "    ],\n",
    "    axis=0,\n",
    ")\n",
    "\n",
    "print('p-value =', '{0:.3f}'.format(stats.mannwhitneyu(sampleAFiltered, sampleBFiltered)[1]))\n",
    "print('Относительный выигрыш группы B =', '{0:.3f}'.format(sampleBFiltered.mean()/sampleAFiltered.mean()-1))"
   ]
  },
  {
   "cell_type": "markdown",
   "id": "7df6cd67",
   "metadata": {},
   "source": [
    "1. На очищенных данных разница в конверсии между группами есть.\n",
    "2. Относительный прирост конверсии группы В отнистельно группы А увеличился на 1,5% относительно \"сырых\" данных."
   ]
  },
  {
   "cell_type": "markdown",
   "id": "a367721f",
   "metadata": {},
   "source": [
    "### 3.10.4. Средний чек заказа между группами по «очищенным» данным"
   ]
  },
  {
   "cell_type": "markdown",
   "id": "6120a355",
   "metadata": {},
   "source": [
    "Введем основную и альтернативные гипотезы:\n",
    "\n",
    " - *Н0: различий в конверсии между группами нет*\n",
    " - *Н1: различия в конверсии между группами есть*\n",
    " \n",
    "\n",
    "Уровень значимости: alpha = 0,05"
   ]
  },
  {
   "cell_type": "code",
   "execution_count": 33,
   "id": "f59481cc",
   "metadata": {},
   "outputs": [
    {
     "name": "stdout",
     "output_type": "stream",
     "text": [
      "p-value = 0.788\n",
      "Относительный выигрыш группы B = -0.03234\n"
     ]
    }
   ],
   "source": [
    "print('p-value =', \n",
    "    '{0:.3f}'.format(\n",
    "        stats.mannwhitneyu(\n",
    "            orders[\n",
    "                np.logical_and(\n",
    "                    orders['group'] == 'A',\n",
    "                    np.logical_not(orders['userId'].isin(abnormalUsers)),\n",
    "                )\n",
    "            ]['revenue'],\n",
    "            orders[\n",
    "                np.logical_and(\n",
    "                    orders['group'] == 'B',\n",
    "                    np.logical_not(orders['userId'].isin(abnormalUsers)),\n",
    "                )\n",
    "            ]['revenue'],\n",
    "        )[1]\n",
    "    )\n",
    ")\n",
    "\n",
    "print('Относительный выигрыш группы B =', \n",
    "    \"{0:.5f}\".format(\n",
    "        orders[\n",
    "            np.logical_and(\n",
    "                orders['group'] == 'B',\n",
    "                np.logical_not(orders['userId'].isin(abnormalUsers)),\n",
    "            )\n",
    "        ]['revenue'].mean()\n",
    "        / orders[\n",
    "            np.logical_and(\n",
    "                orders['group'] == 'A',\n",
    "                np.logical_not(orders['userId'].isin(abnormalUsers)),\n",
    "            )\n",
    "        ]['revenue'].mean()\n",
    "        - 1\n",
    "    )\n",
    ")"
   ]
  },
  {
   "cell_type": "markdown",
   "id": "6f715f80",
   "metadata": {},
   "source": [
    "1. P-value значительно больше 0.05. Значит, причин отвергать нулевую гипотезу и считать, что в среднем чеке есть различия, нет. \n",
    "2. По разнице средних чеков групп различий практически нет. \n",
    "3. Средние чеки группы В ниже, чем у группы А."
   ]
  },
  {
   "cell_type": "markdown",
   "id": "b29d7a15",
   "metadata": {},
   "source": [
    "# Выводы"
   ]
  },
  {
   "cell_type": "markdown",
   "id": "3f27231d",
   "metadata": {},
   "source": [
    "На основании входных данных, предоставленных интернет-магазином был проведено исследование и вынесены рекомендации, изложенные ниже.\n",
    "\n",
    "### В части приоритизации гипотез из списка, предоставленных отделом Маркетинга следует в первую очередь обратить внимание на гипотезы:\n",
    "\n",
    "1. Добавить форму подписки на все основные страницы, чтобы собрать базу клиентов для email-рассылок\n",
    "\n",
    "2. Добавить два новых канала привлечения трафика, что позволит привлекать на 30% больше пользователей\n",
    "\n",
    "3. Запустить акцию, дающую скидку на товар в день рождения\t\n"
   ]
  },
  {
   "cell_type": "markdown",
   "id": "f4af0f8a",
   "metadata": {},
   "source": [
    "### В части анализа А/В теста:\n",
    "\n",
    "1. Есть статистически значимое различие по конверсии между группами как по «сырым», так и по данным после фильтрации аномалий. Конверсия группы В выше, чем в А, на 18%;\n",
    "2. Нет статистически значимого различия по среднему чеку между группами ни по «сырым», ни по данным после фильтрации аномалий;\n",
    "3. График относительного изменения кумулятивного среднего количества заказов группы B к группе A показывает, что результаты группы В стабильно лучше группы А;\n",
    "\n",
    "На основании вышеизложенного рекомендуем остановить тест, зафиксировав победу группы B (ее конверсия значительно выше конверсии группы А)."
   ]
  }
 ],
 "metadata": {
  "ExecuteTimeLog": [
   {
    "duration": 1048,
    "start_time": "2023-03-19T13:35:47.283Z"
   },
   {
    "duration": 611,
    "start_time": "2023-03-19T13:35:48.332Z"
   },
   {
    "duration": 158,
    "start_time": "2023-03-19T13:35:48.945Z"
   },
   {
    "duration": 14,
    "start_time": "2023-03-19T13:35:49.105Z"
   },
   {
    "duration": 106,
    "start_time": "2023-03-19T13:35:49.120Z"
   },
   {
    "duration": 9,
    "start_time": "2023-03-19T13:35:49.228Z"
   },
   {
    "duration": 13,
    "start_time": "2023-03-19T13:35:49.239Z"
   },
   {
    "duration": 10,
    "start_time": "2023-03-19T13:35:49.253Z"
   },
   {
    "duration": 261,
    "start_time": "2023-03-19T13:35:49.265Z"
   },
   {
    "duration": 276,
    "start_time": "2023-03-19T13:35:49.528Z"
   },
   {
    "duration": 205,
    "start_time": "2023-03-19T13:35:49.806Z"
   },
   {
    "duration": 284,
    "start_time": "2023-03-19T13:35:50.013Z"
   },
   {
    "duration": 221,
    "start_time": "2023-03-19T13:35:50.299Z"
   },
   {
    "duration": 290,
    "start_time": "2023-03-19T13:35:50.522Z"
   },
   {
    "duration": 7,
    "start_time": "2023-03-19T13:35:50.814Z"
   },
   {
    "duration": 318,
    "start_time": "2023-03-19T13:35:50.822Z"
   },
   {
    "duration": 4,
    "start_time": "2023-03-19T13:35:51.142Z"
   },
   {
    "duration": 511,
    "start_time": "2023-03-19T13:35:51.157Z"
   },
   {
    "duration": 5,
    "start_time": "2023-03-19T13:35:51.670Z"
   },
   {
    "duration": 267,
    "start_time": "2023-03-19T13:35:51.677Z"
   },
   {
    "duration": 150,
    "start_time": "2023-03-19T13:35:51.945Z"
   },
   {
    "duration": 5,
    "start_time": "2023-03-19T13:35:52.096Z"
   },
   {
    "duration": 260,
    "start_time": "2023-03-19T13:35:52.103Z"
   },
   {
    "duration": 9,
    "start_time": "2023-03-19T13:35:52.364Z"
   },
   {
    "duration": 8,
    "start_time": "2023-03-19T13:35:52.375Z"
   },
   {
    "duration": 30,
    "start_time": "2023-03-19T13:35:52.384Z"
   },
   {
    "duration": 14,
    "start_time": "2023-03-19T13:35:52.415Z"
   },
   {
    "duration": 1118,
    "start_time": "2023-03-19T15:06:09.431Z"
   },
   {
    "duration": 136,
    "start_time": "2023-03-19T15:06:10.551Z"
   },
   {
    "duration": 146,
    "start_time": "2023-03-19T15:06:10.688Z"
   },
   {
    "duration": 12,
    "start_time": "2023-03-19T15:06:10.836Z"
   },
   {
    "duration": 125,
    "start_time": "2023-03-19T15:06:10.849Z"
   },
   {
    "duration": 10,
    "start_time": "2023-03-19T15:06:10.976Z"
   },
   {
    "duration": 14,
    "start_time": "2023-03-19T15:06:10.987Z"
   },
   {
    "duration": 17,
    "start_time": "2023-03-19T15:06:11.002Z"
   },
   {
    "duration": 344,
    "start_time": "2023-03-19T15:06:11.020Z"
   },
   {
    "duration": 298,
    "start_time": "2023-03-19T15:06:11.368Z"
   },
   {
    "duration": 211,
    "start_time": "2023-03-19T15:06:11.673Z"
   },
   {
    "duration": 307,
    "start_time": "2023-03-19T15:06:11.885Z"
   },
   {
    "duration": 246,
    "start_time": "2023-03-19T15:06:12.193Z"
   },
   {
    "duration": 352,
    "start_time": "2023-03-19T15:06:12.441Z"
   },
   {
    "duration": 8,
    "start_time": "2023-03-19T15:06:12.794Z"
   },
   {
    "duration": 338,
    "start_time": "2023-03-19T15:06:12.803Z"
   },
   {
    "duration": 15,
    "start_time": "2023-03-19T15:06:13.143Z"
   },
   {
    "duration": 522,
    "start_time": "2023-03-19T15:06:13.162Z"
   },
   {
    "duration": 7,
    "start_time": "2023-03-19T15:06:13.685Z"
   },
   {
    "duration": 308,
    "start_time": "2023-03-19T15:06:13.693Z"
   },
   {
    "duration": 132,
    "start_time": "2023-03-19T15:06:14.002Z"
   },
   {
    "duration": 6,
    "start_time": "2023-03-19T15:06:14.136Z"
   },
   {
    "duration": 305,
    "start_time": "2023-03-19T15:06:14.143Z"
   },
   {
    "duration": 24,
    "start_time": "2023-03-19T15:06:14.449Z"
   },
   {
    "duration": 12,
    "start_time": "2023-03-19T15:06:14.475Z"
   },
   {
    "duration": 31,
    "start_time": "2023-03-19T15:06:14.489Z"
   },
   {
    "duration": 14,
    "start_time": "2023-03-19T15:06:14.521Z"
   },
   {
    "duration": 1676,
    "start_time": "2023-03-20T11:51:55.821Z"
   },
   {
    "duration": 132,
    "start_time": "2023-03-20T11:51:57.500Z"
   },
   {
    "duration": 96,
    "start_time": "2023-03-20T11:51:57.634Z"
   },
   {
    "duration": 19,
    "start_time": "2023-03-20T11:51:57.732Z"
   },
   {
    "duration": 105,
    "start_time": "2023-03-20T11:51:57.753Z"
   },
   {
    "duration": 17,
    "start_time": "2023-03-20T11:51:57.860Z"
   },
   {
    "duration": 29,
    "start_time": "2023-03-20T11:51:57.879Z"
   },
   {
    "duration": 24,
    "start_time": "2023-03-20T11:51:57.911Z"
   },
   {
    "duration": 327,
    "start_time": "2023-03-20T11:51:57.937Z"
   },
   {
    "duration": 364,
    "start_time": "2023-03-20T11:51:58.267Z"
   },
   {
    "duration": 299,
    "start_time": "2023-03-20T11:51:58.634Z"
   },
   {
    "duration": 367,
    "start_time": "2023-03-20T11:51:58.935Z"
   },
   {
    "duration": 280,
    "start_time": "2023-03-20T11:51:59.305Z"
   },
   {
    "duration": 467,
    "start_time": "2023-03-20T11:51:59.588Z"
   },
   {
    "duration": 10,
    "start_time": "2023-03-20T11:52:00.057Z"
   },
   {
    "duration": 395,
    "start_time": "2023-03-20T11:52:00.070Z"
   },
   {
    "duration": 7,
    "start_time": "2023-03-20T11:52:00.468Z"
   },
   {
    "duration": 592,
    "start_time": "2023-03-20T11:52:00.476Z"
   },
   {
    "duration": 757,
    "start_time": "2023-03-20T11:52:01.070Z"
   },
   {
    "duration": 8,
    "start_time": "2023-03-20T11:52:01.829Z"
   },
   {
    "duration": 285,
    "start_time": "2023-03-20T11:52:01.839Z"
   },
   {
    "duration": 165,
    "start_time": "2023-03-20T11:52:02.126Z"
   },
   {
    "duration": 6,
    "start_time": "2023-03-20T11:52:02.293Z"
   },
   {
    "duration": 57,
    "start_time": "2023-03-20T11:52:02.301Z"
   },
   {
    "duration": 14,
    "start_time": "2023-03-20T11:52:02.360Z"
   },
   {
    "duration": 15,
    "start_time": "2023-03-20T11:52:02.376Z"
   },
   {
    "duration": 65,
    "start_time": "2023-03-20T11:52:02.393Z"
   },
   {
    "duration": 20,
    "start_time": "2023-03-20T11:52:02.462Z"
   }
  ],
  "kernelspec": {
   "display_name": "Python 3 (ipykernel)",
   "language": "python",
   "name": "python3"
  },
  "language_info": {
   "codemirror_mode": {
    "name": "ipython",
    "version": 3
   },
   "file_extension": ".py",
   "mimetype": "text/x-python",
   "name": "python",
   "nbconvert_exporter": "python",
   "pygments_lexer": "ipython3",
   "version": "3.9.12"
  },
  "toc": {
   "base_numbering": 1,
   "nav_menu": {},
   "number_sections": true,
   "sideBar": true,
   "skip_h1_title": true,
   "title_cell": "Table of Contents",
   "title_sidebar": "Contents",
   "toc_cell": false,
   "toc_position": {},
   "toc_section_display": true,
   "toc_window_display": false
  }
 },
 "nbformat": 4,
 "nbformat_minor": 5
}
